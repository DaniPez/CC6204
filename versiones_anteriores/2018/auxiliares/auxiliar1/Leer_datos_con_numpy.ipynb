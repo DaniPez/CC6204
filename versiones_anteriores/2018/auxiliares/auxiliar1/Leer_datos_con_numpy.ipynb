{
  "nbformat": 4,
  "nbformat_minor": 0,
  "metadata": {
    "colab": {
      "name": "Leer_datos_con_numpy.ipynb",
      "version": "0.3.2",
      "views": {},
      "default_view": {},
      "provenance": []
    },
    "kernelspec": {
      "name": "python3",
      "display_name": "Python 3"
    },
    "accelerator": "GPU"
  },
  "cells": [
    {
      "metadata": {
        "id": "jSDyhR2DpzkM",
        "colab_type": "text"
      },
      "cell_type": "markdown",
      "source": [
        "## Leer datos con Numpy\n",
        "\n",
        "\n",
        "En este colab leeremos datos con numpy para que despues podamos manipularlos con PyTorch.\n",
        "\n",
        "Los datos que leeremos serán los que correspondiente a la Tarea1, por lo que lo primero que haremos será clonar el Github."
      ]
    },
    {
      "metadata": {
        "id": "Y93NotPxnfdc",
        "colab_type": "code",
        "colab": {
          "autoexec": {
            "startup": false,
            "wait_interval": 0
          },
          "output_extras": [
            {
              "item_id": 1
            }
          ],
          "base_uri": "https://localhost:8080/",
          "height": 35
        },
        "outputId": "fb9b35dc-2a63-4e0f-fb26-9b4a1ee8e016",
        "executionInfo": {
          "status": "ok",
          "timestamp": 1521486995430,
          "user_tz": 180,
          "elapsed": 870,
          "user": {
            "displayName": "Roberto Andres Ibañez Aliaga",
            "photoUrl": "https://lh3.googleusercontent.com/a/default-user=s128",
            "userId": "112930615369233669975"
          }
        }
      },
      "cell_type": "code",
      "source": [
        "## Clonamos el github\n",
        "!git clone https://github.com/jorgeperezrojas/cc6204-DeepLearning-DCCUChile.git"
      ],
      "execution_count": 1,
      "outputs": [
        {
          "output_type": "stream",
          "text": [
            "fatal: destination path 'cc6204-DeepLearning-DCCUChile' already exists and is not an empty directory.\r\n"
          ],
          "name": "stdout"
        }
      ]
    },
    {
      "metadata": {
        "id": "7JXibYgPnnbs",
        "colab_type": "code",
        "colab": {
          "autoexec": {
            "startup": false,
            "wait_interval": 0
          },
          "output_extras": [
            {
              "item_id": 1
            }
          ],
          "base_uri": "https://localhost:8080/",
          "height": 35
        },
        "outputId": "141e476f-1715-444c-8cd2-c3888d90139a",
        "executionInfo": {
          "status": "ok",
          "timestamp": 1521486996956,
          "user_tz": 180,
          "elapsed": 864,
          "user": {
            "displayName": "Roberto Andres Ibañez Aliaga",
            "photoUrl": "https://lh3.googleusercontent.com/a/default-user=s128",
            "userId": "112930615369233669975"
          }
        }
      },
      "cell_type": "code",
      "source": [
        "## Vemos los directorios disponibles \n",
        "!ls"
      ],
      "execution_count": 2,
      "outputs": [
        {
          "output_type": "stream",
          "text": [
            "cc6204-DeepLearning-DCCUChile  datalab\r\n"
          ],
          "name": "stdout"
        }
      ]
    },
    {
      "metadata": {
        "id": "ctch2nLgnplm",
        "colab_type": "code",
        "colab": {
          "autoexec": {
            "startup": false,
            "wait_interval": 0
          },
          "output_extras": [
            {
              "item_id": 1
            }
          ],
          "base_uri": "https://localhost:8080/",
          "height": 35
        },
        "outputId": "656dfc37-f80a-4778-e01e-451dea51976f",
        "executionInfo": {
          "status": "ok",
          "timestamp": 1521486999020,
          "user_tz": 180,
          "elapsed": 888,
          "user": {
            "displayName": "Roberto Andres Ibañez Aliaga",
            "photoUrl": "https://lh3.googleusercontent.com/a/default-user=s128",
            "userId": "112930615369233669975"
          }
        }
      },
      "cell_type": "code",
      "source": [
        "## Cambiamos de directorio a donde se encuentran los datos de la tarea1.\n",
        "\n",
        "import os\n",
        "os.chdir(\"./cc6204-DeepLearning-DCCUChile/2018/tareas/tarea1/recursos/varita_magica/data\")\n",
        "!ls"
      ],
      "execution_count": 3,
      "outputs": [
        {
          "output_type": "stream",
          "text": [
            "test_set  train_set\r\n"
          ],
          "name": "stdout"
        }
      ]
    },
    {
      "metadata": {
        "id": "xAyw3y0GntGy",
        "colab_type": "code",
        "colab": {
          "autoexec": {
            "startup": false,
            "wait_interval": 0
          }
        }
      },
      "cell_type": "code",
      "source": [
        "## Instalamos PyTorch\n",
        "\n",
        "from os import path\n",
        "from wheel.pep425tags import get_abbr_impl, get_impl_ver, get_abi_tag\n",
        "platform = '{}{}-{}'.format(get_abbr_impl(), get_impl_ver(), get_abi_tag())\n",
        "\n",
        "accelerator = 'cu80' if path.exists('/opt/bin/nvidia-smi') else 'cpu'\n",
        "\n",
        "!pip install -q http://download.pytorch.org/whl/{accelerator}/torch-0.3.0.post4-{platform}-linux_x86_64.whl torchvision\n",
        "import torch"
      ],
      "execution_count": 0,
      "outputs": []
    },
    {
      "metadata": {
        "id": "Q74EFB4noDzA",
        "colab_type": "code",
        "colab": {
          "autoexec": {
            "startup": false,
            "wait_interval": 0
          }
        }
      },
      "cell_type": "code",
      "source": [
        "## Importamos las librerias de PyTorch\n",
        "import torchvision\n",
        "from torch.utils.data import Dataset, DataLoader\n",
        "import torchvision.datasets as dset\n",
        "from torchvision import transforms, utils"
      ],
      "execution_count": 0,
      "outputs": []
    },
    {
      "metadata": {
        "id": "mhis3UWbrDl-",
        "colab_type": "code",
        "colab": {
          "autoexec": {
            "startup": false,
            "wait_interval": 0
          },
          "output_extras": [
            {
              "item_id": 1
            }
          ],
          "base_uri": "https://localhost:8080/",
          "height": 35
        },
        "outputId": "0c4fbf59-57d5-4ec2-8111-1f044fdea17f",
        "executionInfo": {
          "status": "ok",
          "timestamp": 1521487015178,
          "user_tz": 180,
          "elapsed": 600,
          "user": {
            "displayName": "Roberto Andres Ibañez Aliaga",
            "photoUrl": "https://lh3.googleusercontent.com/a/default-user=s128",
            "userId": "112930615369233669975"
          }
        }
      },
      "cell_type": "code",
      "source": [
        "from scipy import misc\n",
        "import glob\n",
        "\n",
        "## Leemos una imagen aleatoria para explorarla\n",
        "image0 = misc.imread(\"./train_set/hechizo-8/057.png\")\n",
        "image0.shape"
      ],
      "execution_count": 7,
      "outputs": [
        {
          "output_type": "execute_result",
          "data": {
            "text/plain": [
              "(64, 64, 2)"
            ]
          },
          "metadata": {
            "tags": []
          },
          "execution_count": 7
        }
      ]
    },
    {
      "metadata": {
        "id": "1bccgiBurQm8",
        "colab_type": "code",
        "colab": {
          "autoexec": {
            "startup": false,
            "wait_interval": 0
          },
          "output_extras": [
            {
              "item_id": 1
            },
            {
              "item_id": 2
            }
          ],
          "base_uri": "https://localhost:8080/",
          "height": 367
        },
        "outputId": "f09cdf87-47bb-4efc-8369-8ab94f8fbaf6",
        "executionInfo": {
          "status": "ok",
          "timestamp": 1521487017610,
          "user_tz": 180,
          "elapsed": 760,
          "user": {
            "displayName": "Roberto Andres Ibañez Aliaga",
            "photoUrl": "https://lh3.googleusercontent.com/a/default-user=s128",
            "userId": "112930615369233669975"
          }
        }
      },
      "cell_type": "code",
      "source": [
        "import matplotlib.pyplot as plt\n",
        "\n",
        "## Dado que tiene 2 canales, plotearemos cada uno por separado\n",
        "\n",
        "## Imagen del canal 0\n",
        "plt.imshow(image0[:, :, 0], cmap=plt.cm.gray)"
      ],
      "execution_count": 8,
      "outputs": [
        {
          "output_type": "execute_result",
          "data": {
            "text/plain": [
              "<matplotlib.image.AxesImage at 0x7fc13f2f1f28>"
            ]
          },
          "metadata": {
            "tags": []
          },
          "execution_count": 8
        },
        {
          "output_type": "display_data",
          "data": {
            "image/png": "[encoded data removed]",
            "text/plain": [
              "<matplotlib.figure.Figure at 0x7fc13f31c3c8>"
            ]
          },
          "metadata": {
            "tags": []
          }
        }
      ]
    },
    {
      "metadata": {
        "id": "5lbtxVhure0q",
        "colab_type": "code",
        "colab": {
          "autoexec": {
            "startup": false,
            "wait_interval": 0
          },
          "output_extras": [
            {
              "item_id": 1
            },
            {
              "item_id": 2
            }
          ],
          "base_uri": "https://localhost:8080/",
          "height": 367
        },
        "outputId": "5714d165-bee0-42ba-909a-e935f73c31e8",
        "executionInfo": {
          "status": "ok",
          "timestamp": 1521487020242,
          "user_tz": 180,
          "elapsed": 664,
          "user": {
            "displayName": "Roberto Andres Ibañez Aliaga",
            "photoUrl": "https://lh3.googleusercontent.com/a/default-user=s128",
            "userId": "112930615369233669975"
          }
        }
      },
      "cell_type": "code",
      "source": [
        "## Imagen del canal 1\n",
        "plt.imshow(image0[:, :, 1], cmap=plt.cm.gray)"
      ],
      "execution_count": 9,
      "outputs": [
        {
          "output_type": "execute_result",
          "data": {
            "text/plain": [
              "<matplotlib.image.AxesImage at 0x7fc13d2937f0>"
            ]
          },
          "metadata": {
            "tags": []
          },
          "execution_count": 9
        },
        {
          "output_type": "display_data",
          "data": {
            "image/png": "[encoded data removed]",
            "text/plain": [
              "<matplotlib.figure.Figure at 0x7fc13f31c908>"
            ]
          },
          "metadata": {
            "tags": []
          }
        }
      ]
    },
    {
      "metadata": {
        "id": "Dtke5f_rppLU",
        "colab_type": "code",
        "colab": {
          "autoexec": {
            "startup": false,
            "wait_interval": 0
          }
        }
      },
      "cell_type": "code",
      "source": [
        "## Cargar todas las imagenes del train_set como numpy array\n",
        "images = []\n",
        "\n",
        "## Esto es solo con fines pedagógicos, deberíamos tambien retener la información de la etiqueta que se encuentra en cada carpeta.\n",
        "for image_path in glob.glob(\"./train_set/hechizo-*/*.png\"):\n",
        "    ## Explorando las imagenes nos dimos cuenta que solo el segundo canal contiene información relevante, por lo que no cargamos el primero\n",
        "    images.append(misc.imread(image_path)[:,:,1])"
      ],
      "execution_count": 0,
      "outputs": []
    },
    {
      "metadata": {
        "id": "AMamXhaXcE-4",
        "colab_type": "code",
        "colab": {
          "autoexec": {
            "startup": false,
            "wait_interval": 0
          },
          "output_extras": [
            {
              "item_id": 1
            }
          ],
          "base_uri": "https://localhost:8080/",
          "height": 35
        },
        "outputId": "3168554b-35d2-4d00-9bef-4f2b44fa81e6",
        "executionInfo": {
          "status": "ok",
          "timestamp": 1521487031402,
          "user_tz": 180,
          "elapsed": 606,
          "user": {
            "displayName": "Roberto Andres Ibañez Aliaga",
            "photoUrl": "https://lh3.googleusercontent.com/a/default-user=s128",
            "userId": "112930615369233669975"
          }
        }
      },
      "cell_type": "code",
      "source": [
        "## Nuevamente leemos una imagen aleatoria\n",
        "imagetest = images[1535]\n",
        "imagetest.shape"
      ],
      "execution_count": 11,
      "outputs": [
        {
          "output_type": "execute_result",
          "data": {
            "text/plain": [
              "(64, 64)"
            ]
          },
          "metadata": {
            "tags": []
          },
          "execution_count": 11
        }
      ]
    },
    {
      "metadata": {
        "id": "sl57cOQTcJci",
        "colab_type": "code",
        "colab": {
          "autoexec": {
            "startup": false,
            "wait_interval": 0
          },
          "output_extras": [
            {
              "item_id": 1
            }
          ],
          "base_uri": "https://localhost:8080/",
          "height": 35
        },
        "outputId": "e6d1153c-27c2-4c52-c987-d7343609bbc9",
        "executionInfo": {
          "status": "ok",
          "timestamp": 1521487046186,
          "user_tz": 180,
          "elapsed": 574,
          "user": {
            "displayName": "Roberto Andres Ibañez Aliaga",
            "photoUrl": "https://lh3.googleusercontent.com/a/default-user=s128",
            "userId": "112930615369233669975"
          }
        }
      },
      "cell_type": "code",
      "source": [
        "## Creamos un tensor a partir de un Numpy array\n",
        "tensor_imagetest = torch.from_numpy(imagetest)\n",
        "tensor_imagetest.shape"
      ],
      "execution_count": 14,
      "outputs": [
        {
          "output_type": "execute_result",
          "data": {
            "text/plain": [
              "torch.Size([64, 64])"
            ]
          },
          "metadata": {
            "tags": []
          },
          "execution_count": 14
        }
      ]
    },
    {
      "metadata": {
        "id": "Es_MS8M4n1lW",
        "colab_type": "code",
        "colab": {
          "autoexec": {
            "startup": false,
            "wait_interval": 0
          }
        }
      },
      "cell_type": "code",
      "source": [
        "import random\n",
        "\n",
        "## Función para desorderar los datos leidos (esto lo pueden hacer directamente con PyTorch mediante DataLoader)\n",
        "def my_shuffle(array):\n",
        "    random.shuffle(array)\n",
        "    return array"
      ],
      "execution_count": 0,
      "outputs": []
    },
    {
      "metadata": {
        "id": "jNhI_WJ8oEbI",
        "colab_type": "code",
        "colab": {
          "autoexec": {
            "startup": false,
            "wait_interval": 0
          }
        }
      },
      "cell_type": "code",
      "source": [
        "## Desordenamos nuestro Train_set\n",
        "shuffle_train_set = my_shuffle(images)"
      ],
      "execution_count": 0,
      "outputs": []
    },
    {
      "metadata": {
        "id": "_-JsjY-5oL38",
        "colab_type": "code",
        "colab": {
          "autoexec": {
            "startup": false,
            "wait_interval": 0
          },
          "output_extras": [
            {
              "item_id": 1
            }
          ],
          "base_uri": "https://localhost:8080/",
          "height": 1682
        },
        "outputId": "dec46141-645c-444b-a5e3-3573dfdd446b",
        "executionInfo": {
          "status": "ok",
          "timestamp": 1521487063640,
          "user_tz": 180,
          "elapsed": 1666,
          "user": {
            "displayName": "Roberto Andres Ibañez Aliaga",
            "photoUrl": "https://lh3.googleusercontent.com/a/default-user=s128",
            "userId": "112930615369233669975"
          }
        }
      },
      "cell_type": "code",
      "source": [
        "## Elegimos un numero de ejemplos y los visualizamos\n",
        "\n",
        "from matplotlib.pyplot import imshow, figure, subplots\n",
        "\n",
        "n_ejemplos = 10\n",
        "fig, axs = subplots(nrows=n_ejemplos, sharey=True, figsize=(3,n_ejemplos*3))\n",
        "\n",
        "for i in range(n_ejemplos):\n",
        "  axs[i].imshow(shuffle_train_set[i])"
      ],
      "execution_count": 18,
      "outputs": [
        {
          "output_type": "display_data",
          "data": {
            "image/png": "[encoded data removed]",
            "text/plain": [
              "<matplotlib.figure.Figure at 0x7fc13d23ecc0>"
            ]
          },
          "metadata": {
            "tags": []
          }
        }
      ]
    },
    {
      "metadata": {
        "id": "oFCd1xsksf98",
        "colab_type": "code",
        "colab": {
          "autoexec": {
            "startup": false,
            "wait_interval": 0
          }
        }
      },
      "cell_type": "code",
      "source": [
        ""
      ],
      "execution_count": 0,
      "outputs": []
    }
  ]
}