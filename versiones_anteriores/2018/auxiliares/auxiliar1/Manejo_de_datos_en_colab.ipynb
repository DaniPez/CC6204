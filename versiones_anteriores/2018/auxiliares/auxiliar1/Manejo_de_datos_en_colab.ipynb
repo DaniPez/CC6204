{
  "nbformat": 4,
  "nbformat_minor": 0,
  "metadata": {
    "colab": {
      "name": "Manejo de datos en colab.ipynb",
      "version": "0.3.2",
      "views": {},
      "default_view": {},
      "provenance": []
    },
    "kernelspec": {
      "name": "python3",
      "display_name": "Python 3"
    },
    "accelerator": "GPU"
  },
  "cells": [
    {
      "metadata": {
        "id": "H5s4q5Y7BYsC",
        "colab_type": "text"
      },
      "cell_type": "markdown",
      "source": [
        "# Manejo de Datos en Google Colaboratory"
      ]
    },
    {
      "metadata": {
        "id": "iOfizDJ8Bg6s",
        "colab_type": "text"
      },
      "cell_type": "markdown",
      "source": [
        "## Moverse entre directorios"
      ]
    },
    {
      "metadata": {
        "id": "cGCfp-2Z85lQ",
        "colab_type": "text"
      },
      "cell_type": "markdown",
      "source": [
        "\n",
        "Para movernos entre directorios debemos utilizar \n",
        "\n",
        "```\n",
        "import os \n",
        "os.chdir(\"path_to_file\")\n",
        "```\n",
        "\n",
        "No podemos utilizar \"cd\" para cambiarnos de directorio\n",
        "\n",
        "```\n",
        "!cd path_to_file # Si hacemos esto no nos cambiaremos de directorio\n",
        "```\n",
        "\n",
        "\n",
        "\n",
        "\n"
      ]
    },
    {
      "metadata": {
        "id": "mpt2U6IPjoCI",
        "colab_type": "text"
      },
      "cell_type": "markdown",
      "source": [
        "## Cómo Cargar Datos externos en Colaboratory"
      ]
    },
    {
      "metadata": {
        "id": "iMwlmpaVGwsC",
        "colab_type": "text"
      },
      "cell_type": "markdown",
      "source": [
        "Los datos pueden ser cargados de distintas formas en colaboratory, podemos cargarlos desde algún repositorio, descargarlos desde alguna página web o desde nuestros Drive.\n",
        "\n",
        "Para clonar un repositorio utilizamos:\n",
        "\n",
        "```\n",
        "!git clone url\n",
        "```\n",
        "\n",
        "Para descargar directamente un archivo desde una página web utilizamos:\n",
        "\n",
        "\n",
        "\n",
        "```\n",
        "!wget url\n",
        "```\n",
        "\n",
        "\n"
      ]
    },
    {
      "metadata": {
        "id": "ocS_Y6adHdgH",
        "colab_type": "text"
      },
      "cell_type": "markdown",
      "source": [
        "### Ejemplo: Discursos de Piñera"
      ]
    },
    {
      "metadata": {
        "id": "g1WI7f-ETVs8",
        "colab_type": "code",
        "colab": {
          "autoexec": {
            "startup": false,
            "wait_interval": 0
          },
          "output_extras": [
            {
              "item_id": 1
            }
          ],
          "base_uri": "https://localhost:8080/",
          "height": 35
        },
        "outputId": "5fd81259-0528-4845-ac60-be4622b1c911",
        "executionInfo": {
          "status": "ok",
          "timestamp": 1521425344208,
          "user_tz": 180,
          "elapsed": 818,
          "user": {
            "displayName": "Roberto Andres Ibañez Aliaga",
            "photoUrl": "https://lh3.googleusercontent.com/a/default-user=s128",
            "userId": "112930615369233669975"
          }
        }
      },
      "cell_type": "code",
      "source": [
        "!ls"
      ],
      "execution_count": 1,
      "outputs": [
        {
          "output_type": "stream",
          "text": [
            "datalab\r\n"
          ],
          "name": "stdout"
        }
      ]
    },
    {
      "metadata": {
        "id": "9o9S35YsPN28",
        "colab_type": "code",
        "colab": {
          "autoexec": {
            "startup": false,
            "wait_interval": 0
          }
        }
      },
      "cell_type": "code",
      "source": [
        "# Remover archivo/carpeta si ya existe\n",
        "\n",
        "import os\n",
        "\n",
        "if os.path.exists('/content/piñera/'):\n",
        "  !rm -R /content/piñera/\n"
      ],
      "execution_count": 0,
      "outputs": []
    },
    {
      "metadata": {
        "id": "jIxLE-wCRT--",
        "colab_type": "text"
      },
      "cell_type": "markdown",
      "source": [
        "### !wget"
      ]
    },
    {
      "metadata": {
        "id": "jvGv_djRoGrk",
        "colab_type": "code",
        "colab": {
          "autoexec": {
            "startup": false,
            "wait_interval": 0
          },
          "output_extras": [
            {
              "item_id": 78
            },
            {
              "item_id": 98
            }
          ],
          "base_uri": "https://localhost:8080/",
          "height": 423
        },
        "outputId": "f65c8673-e875-4c1d-f25f-4814328d8fc6",
        "executionInfo": {
          "status": "ok",
          "timestamp": 1521425386034,
          "user_tz": 180,
          "elapsed": 40856,
          "user": {
            "displayName": "Roberto Andres Ibañez Aliaga",
            "photoUrl": "https://lh3.googleusercontent.com/a/default-user=s128",
            "userId": "112930615369233669975"
          }
        }
      },
      "cell_type": "code",
      "source": [
        "!wget http://dcc.uchile.cl/~jperez/resources/piñera_1.tar.gz -P /content/piñera"
      ],
      "execution_count": 3,
      "outputs": [
        {
          "output_type": "stream",
          "text": [
            "--2018-03-19 02:09:05--  http://dcc.uchile.cl/~jperez/resources/pi%C3%B1era_1.tar.gz\n",
            "Resolving dcc.uchile.cl (dcc.uchile.cl)... 192.80.24.4\n",
            "Connecting to dcc.uchile.cl (dcc.uchile.cl)|192.80.24.4|:80... connected.\n",
            "HTTP request sent, awaiting response... 301 Moved Permanently\n",
            "Location: https://www.dcc.uchile.cl/~jperez/resources/pi%c3%b1era_1.tar.gz [following]\n",
            "--2018-03-19 02:09:05--  https://www.dcc.uchile.cl/~jperez/resources/pi%c3%b1era_1.tar.gz\n",
            "Resolving www.dcc.uchile.cl (www.dcc.uchile.cl)... 192.80.24.4\n",
            "Connecting to www.dcc.uchile.cl (www.dcc.uchile.cl)|192.80.24.4|:443... connected.\n",
            "HTTP request sent, awaiting response... 302 Found\n",
            "Location: https://users.dcc.uchile.cl/~jperez/resources/pi%c3%b1era_1.tar.gz [following]\n",
            "--2018-03-19 02:09:06--  https://users.dcc.uchile.cl/~jperez/resources/pi%c3%b1era_1.tar.gz\n",
            "Resolving users.dcc.uchile.cl (users.dcc.uchile.cl)... 192.80.24.4\n",
            "Connecting to users.dcc.uchile.cl (users.dcc.uchile.cl)|192.80.24.4|:443... connected.\n",
            "HTTP request sent, awaiting response... 200 OK\n",
            "Length: 5577286 (5.3M) [application/x-gzip]\n",
            "Saving to: ‘/content/piñera/piñera_1.tar.gz’\n",
            "\n",
            "piñera_1.tar.gz      70%[=============>      ]   3.74M  82.0KB/s    eta 10s    "
          ],
          "name": "stdout"
        },
        {
          "output_type": "stream",
          "text": [
            "piñera_1.tar.gz     100%[===================>]   5.32M   113KB/s    in 38s     \n",
            "\n",
            "2018-03-19 02:09:45 (143 KB/s) - ‘/content/piñera/piñera_1.tar.gz’ saved [5577286/5577286]\n",
            "\n"
          ],
          "name": "stdout"
        }
      ]
    },
    {
      "metadata": {
        "id": "ArD-KUXS8EPI",
        "colab_type": "code",
        "colab": {
          "autoexec": {
            "startup": false,
            "wait_interval": 0
          },
          "output_extras": [
            {
              "item_id": 1
            }
          ],
          "base_uri": "https://localhost:8080/",
          "height": 35
        },
        "outputId": "57d3a705-72fb-4ea5-dbe8-442dda2bf49e",
        "executionInfo": {
          "status": "ok",
          "timestamp": 1521425386940,
          "user_tz": 180,
          "elapsed": 852,
          "user": {
            "displayName": "Roberto Andres Ibañez Aliaga",
            "photoUrl": "https://lh3.googleusercontent.com/a/default-user=s128",
            "userId": "112930615369233669975"
          }
        }
      },
      "cell_type": "code",
      "source": [
        "!ls"
      ],
      "execution_count": 4,
      "outputs": [
        {
          "output_type": "stream",
          "text": [
            "datalab  piñera\r\n"
          ],
          "name": "stdout"
        }
      ]
    },
    {
      "metadata": {
        "id": "yKmdEwfN9L6k",
        "colab_type": "code",
        "colab": {
          "autoexec": {
            "startup": false,
            "wait_interval": 0
          },
          "output_extras": [
            {
              "item_id": 1
            }
          ],
          "base_uri": "https://localhost:8080/",
          "height": 35
        },
        "outputId": "8ae91e84-7ca8-41bc-827e-5ac410842963",
        "executionInfo": {
          "status": "ok",
          "timestamp": 1521425387844,
          "user_tz": 180,
          "elapsed": 776,
          "user": {
            "displayName": "Roberto Andres Ibañez Aliaga",
            "photoUrl": "https://lh3.googleusercontent.com/a/default-user=s128",
            "userId": "112930615369233669975"
          }
        }
      },
      "cell_type": "code",
      "source": [
        "!ls piñera"
      ],
      "execution_count": 5,
      "outputs": [
        {
          "output_type": "stream",
          "text": [
            "piñera_1.tar.gz\r\n"
          ],
          "name": "stdout"
        }
      ]
    },
    {
      "metadata": {
        "id": "VdbNr9XmJZMW",
        "colab_type": "text"
      },
      "cell_type": "markdown",
      "source": [
        "## Cargar datos desde Google Drive"
      ]
    },
    {
      "metadata": {
        "id": "P8MQaxO0JV_G",
        "colab_type": "text"
      },
      "cell_type": "markdown",
      "source": [
        "### Para cargar datos desde Drive debemos instalar PyDrive y otorgarle permisos a Colaboratory"
      ]
    },
    {
      "metadata": {
        "id": "_3-rnZtMKq_q",
        "colab_type": "code",
        "colab": {
          "autoexec": {
            "startup": false,
            "wait_interval": 0
          }
        }
      },
      "cell_type": "code",
      "source": [
        "!pip install -U -q PyDrive\n",
        "import os\n",
        "from pydrive.auth import GoogleAuth\n",
        "from pydrive.drive import GoogleDrive\n",
        "from google.colab import auth\n",
        "from oauth2client.client import GoogleCredentials\n",
        "\n",
        "## Nos debemos autentificar como usuarios\n",
        "auth.authenticate_user()\n",
        "gauth = GoogleAuth()\n",
        "gauth.credentials = GoogleCredentials.get_application_default()\n",
        "drive = GoogleDrive(gauth)"
      ],
      "execution_count": 0,
      "outputs": []
    },
    {
      "metadata": {
        "id": "P4XZltgxLL40",
        "colab_type": "text"
      },
      "cell_type": "markdown",
      "source": [
        "### Con esto podemos crear una carpeta localmente desde la cual leeremos y/o escribiremos archivos en Drive"
      ]
    },
    {
      "metadata": {
        "id": "vIu5MJ7yLMIY",
        "colab_type": "code",
        "colab": {
          "autoexec": {
            "startup": false,
            "wait_interval": 0
          }
        }
      },
      "cell_type": "code",
      "source": [
        "local_download_path = os.path.expanduser('~/data_drive')\n",
        "try:\n",
        "  os.makedirs(local_download_path)\n",
        "except: pass"
      ],
      "execution_count": 0,
      "outputs": []
    },
    {
      "metadata": {
        "id": "5DmcmD5Z4gAI",
        "colab_type": "text"
      },
      "cell_type": "markdown",
      "source": [
        "### Para ello necesitamos la ID de nuestra carpeta en drive, esta se encuentra en la url de Drive cuando nos encontramos en la carpeta.\n",
        "<img src=\"https://raw.githubusercontent.com/jorgeperezrojas/cc6204-DeepLearning-DCCUChile/master/2018/Auxiliares/Auxiliar1/img/id_drive_folder.png\" width=\"835\" height=\"45\"/>\n"
      ]
    },
    {
      "metadata": {
        "id": "T41GYyrPVOPu",
        "colab_type": "code",
        "colab": {
          "autoexec": {
            "startup": false,
            "wait_interval": 0
          }
        }
      },
      "cell_type": "code",
      "source": [
        "folder_id = \"1ua5NDMXarsJk2R6SB937p95m0q9EDxDP\""
      ],
      "execution_count": 0,
      "outputs": []
    },
    {
      "metadata": {
        "id": "3LzZq6FYLdV-",
        "colab_type": "text"
      },
      "cell_type": "markdown",
      "source": [
        "### Con esto podemos descargar los archivos desde ese directorio en Drive"
      ]
    },
    {
      "metadata": {
        "id": "a59b3WhjLdmI",
        "colab_type": "code",
        "colab": {
          "autoexec": {
            "startup": false,
            "wait_interval": 0
          },
          "output_extras": [
            {
              "item_id": 3
            }
          ],
          "base_uri": "https://localhost:8080/",
          "height": 127
        },
        "outputId": "e9dbf8b7-1ba7-47d8-eb23-75915e010503",
        "executionInfo": {
          "status": "ok",
          "timestamp": 1521425429546,
          "user_tz": 180,
          "elapsed": 2320,
          "user": {
            "displayName": "Roberto Andres Ibañez Aliaga",
            "photoUrl": "https://lh3.googleusercontent.com/a/default-user=s128",
            "userId": "112930615369233669975"
          }
        }
      },
      "cell_type": "code",
      "source": [
        "# Descarga de archivos !\n",
        "file_list = drive.ListFile(\n",
        "    {'q': \"'{}' in parents\".format(folder_id)}).GetList()\n",
        "\n",
        "for f in file_list:\n",
        "  # Creamos los archivos y los descargamos\n",
        "  print('title: %s, id: %s' % (f['title'], f['id']))\n",
        "  fname = os.path.join(local_download_path, f['title'])\n",
        "  print('downloading to {}'.format(fname))\n",
        "  f_ = drive.CreateFile({'id': f['id']})\n",
        "  f_.GetContentFile(fname)"
      ],
      "execution_count": 9,
      "outputs": [
        {
          "output_type": "stream",
          "text": [
            "title: ./test1.txt, id: 1Omiukf0tvKeZdm-_kF5kjVdsvY-R6EmX\n",
            "downloading to /content/data_drive/./test1.txt\n",
            "title: ./test1.txt, id: 1aJc1Mt-K09s92hwQtclvRVc1eq7O-fP1\n",
            "downloading to /content/data_drive/./test1.txt\n",
            "title: bachelet_2.txt, id: 1L38Z0_q86wjOGTcWqaAI05dfSVxl-lwp\n",
            "downloading to /content/data_drive/bachelet_2.txt\n"
          ],
          "name": "stdout"
        }
      ]
    },
    {
      "metadata": {
        "id": "6V4JY6MbO8f4",
        "colab_type": "text"
      },
      "cell_type": "markdown",
      "source": [
        "### Nos cambiaremos de directorio para poder crear archivos que luego subiremos a Drive"
      ]
    },
    {
      "metadata": {
        "id": "meFII5Qm-MxE",
        "colab_type": "code",
        "colab": {
          "autoexec": {
            "startup": false,
            "wait_interval": 0
          },
          "output_extras": [
            {
              "item_id": 1
            }
          ],
          "base_uri": "https://localhost:8080/",
          "height": 35
        },
        "outputId": "46bdc672-0205-4af4-faa7-02f860ca4e66",
        "executionInfo": {
          "status": "ok",
          "timestamp": 1521425430484,
          "user_tz": 180,
          "elapsed": 880,
          "user": {
            "displayName": "Roberto Andres Ibañez Aliaga",
            "photoUrl": "https://lh3.googleusercontent.com/a/default-user=s128",
            "userId": "112930615369233669975"
          }
        }
      },
      "cell_type": "code",
      "source": [
        "!ls"
      ],
      "execution_count": 10,
      "outputs": [
        {
          "output_type": "stream",
          "text": [
            "data_drive  datalab  piñera\r\n"
          ],
          "name": "stdout"
        }
      ]
    },
    {
      "metadata": {
        "id": "bhyZcA81O85-",
        "colab_type": "code",
        "colab": {
          "autoexec": {
            "startup": false,
            "wait_interval": 0
          },
          "output_extras": [
            {
              "item_id": 1
            }
          ],
          "base_uri": "https://localhost:8080/",
          "height": 35
        },
        "outputId": "3b6116cd-779b-4260-e48a-1a66c3ca9f75",
        "executionInfo": {
          "status": "ok",
          "timestamp": 1521425431416,
          "user_tz": 180,
          "elapsed": 884,
          "user": {
            "displayName": "Roberto Andres Ibañez Aliaga",
            "photoUrl": "https://lh3.googleusercontent.com/a/default-user=s128",
            "userId": "112930615369233669975"
          }
        }
      },
      "cell_type": "code",
      "source": [
        "import os\n",
        "os.chdir(\"./data_drive\")\n",
        "!ls"
      ],
      "execution_count": 11,
      "outputs": [
        {
          "output_type": "stream",
          "text": [
            "bachelet_2.txt\ttest1.txt\r\n"
          ],
          "name": "stdout"
        }
      ]
    },
    {
      "metadata": {
        "id": "TndG6rd26j9-",
        "colab_type": "text"
      },
      "cell_type": "markdown",
      "source": [
        "### Para cargar archivos podemos utilizar el metodo CreateFile creando el archivo con Drive para luego subirlo a Drive"
      ]
    },
    {
      "metadata": {
        "id": "GgKnbSe-Pirc",
        "colab_type": "code",
        "colab": {
          "autoexec": {
            "startup": false,
            "wait_interval": 0
          },
          "output_extras": [
            {
              "item_id": 1
            }
          ],
          "base_uri": "https://localhost:8080/",
          "height": 35
        },
        "outputId": "042cfbc4-03cf-44dc-e6df-d4fb22b51a7d",
        "executionInfo": {
          "status": "ok",
          "timestamp": 1521425432778,
          "user_tz": 180,
          "elapsed": 1318,
          "user": {
            "displayName": "Roberto Andres Ibañez Aliaga",
            "photoUrl": "https://lh3.googleusercontent.com/a/default-user=s128",
            "userId": "112930615369233669975"
          }
        }
      },
      "cell_type": "code",
      "source": [
        "## Creamos un archivo con drive y la subimos a drive\n",
        "\n",
        "path_test_file = \"./test1.txt\"\n",
        "uploaded = drive.CreateFile({'title': path_test_file, \"parents\": [{\"kind\": \"drive#fileLink\",\"id\": folder_id}]})\n",
        "\n",
        "\n",
        "with open(path_test_file, \"w\") as f1:\n",
        "  f1.write(\"Archivo de prueba\\n\")\n",
        "  \n",
        "uploaded.Upload()\n",
        "print('Uploaded file with ID {}'.format(uploaded.get('id')))"
      ],
      "execution_count": 12,
      "outputs": [
        {
          "output_type": "stream",
          "text": [
            "Uploaded file with ID 1K-Ex2YSfBbNHjEdkuEA5dIf2WhJ91fhf\n"
          ],
          "name": "stdout"
        }
      ]
    },
    {
      "metadata": {
        "id": "x1QyngmS6yow",
        "colab_type": "text"
      },
      "cell_type": "markdown",
      "source": [
        "### O utilizar MediaFileUpload para subir archivos ya creados a Drive."
      ]
    },
    {
      "metadata": {
        "id": "gf7ToDDNTB6W",
        "colab_type": "code",
        "colab": {
          "autoexec": {
            "startup": false,
            "wait_interval": 0
          },
          "output_extras": [
            {
              "item_id": 1
            }
          ],
          "base_uri": "https://localhost:8080/",
          "height": 35
        },
        "outputId": "f1379d7d-16ed-48e9-d1bb-b22aaa216aeb",
        "executionInfo": {
          "status": "ok",
          "timestamp": 1521425434240,
          "user_tz": 180,
          "elapsed": 1424,
          "user": {
            "displayName": "Roberto Andres Ibañez Aliaga",
            "photoUrl": "https://lh3.googleusercontent.com/a/default-user=s128",
            "userId": "112930615369233669975"
          }
        }
      },
      "cell_type": "code",
      "source": [
        "## Creamos un archivo con python y lo subimos a Drive\n",
        "\n",
        "from googleapiclient.http import MediaFileUpload\n",
        "from googleapiclient.discovery import build\n",
        "drive_service = build('drive', 'v3')\n",
        "\n",
        "path_test_file = \"./test2.txt\"\n",
        "\n",
        "with open(path_test_file, \"w\") as f1:\n",
        "  f1.write(\"Archivo de prueba 2\\n\")\n",
        "  \n",
        "  \n",
        "file_metadata = {\n",
        "  'name': 'test2',\n",
        "  'mimeType': 'text/plain',\n",
        "   \"parents\": [{\"kind\": \"drive#fileLink\",\"id\": folder_id}]\n",
        "}\n",
        "\n",
        "media = MediaFileUpload(path_test_file, \n",
        "                        mimetype='text/plain',\n",
        "                        resumable=True)\n",
        "\n",
        "created = drive_service.files().create(body=file_metadata,\n",
        "                                       media_body=media,\n",
        "                                       fields='id').execute()\n",
        "\n",
        "print('File ID: {}'.format(created.get('id')))"
      ],
      "execution_count": 13,
      "outputs": [
        {
          "output_type": "stream",
          "text": [
            "File ID: 1tbv81YAMS_lsp9ts8geYAxdZYfWjc5MU\n"
          ],
          "name": "stdout"
        }
      ]
    },
    {
      "metadata": {
        "id": "ehVbx8_uBIbS",
        "colab_type": "code",
        "colab": {
          "autoexec": {
            "startup": false,
            "wait_interval": 0
          }
        }
      },
      "cell_type": "code",
      "source": [
        ""
      ],
      "execution_count": 0,
      "outputs": []
    }
  ]
}