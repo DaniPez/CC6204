{
  "nbformat": 4,
  "nbformat_minor": 0,
  "metadata": {
    "colab": {
      "name": "tutorial-tensorboardX-in-colab",
      "provenance": [],
      "collapsed_sections": [],
      "toc_visible": true
    },
    "kernelspec": {
      "name": "python3",
      "display_name": "Python 3"
    }
  },
  "cells": [
    {
      "cell_type": "code",
      "metadata": {
        "id": "TAxdsRLwpQ5y",
        "colab_type": "code",
        "outputId": "2b799565-e743-42df-97e3-971b1fbc5808",
        "colab": {
          "base_uri": "https://localhost:8080/",
          "height": 98
        }
      },
      "source": [
        "!pip3 install tensorboardx"
      ],
      "execution_count": 0,
      "outputs": [
        {
          "output_type": "stream",
          "text": [
            "Requirement already satisfied: tensorboardx in /usr/local/lib/python3.6/dist-packages (1.9)\n",
            "Requirement already satisfied: numpy in /usr/local/lib/python3.6/dist-packages (from tensorboardx) (1.17.4)\n",
            "Requirement already satisfied: six in /usr/local/lib/python3.6/dist-packages (from tensorboardx) (1.12.0)\n",
            "Requirement already satisfied: protobuf>=3.8.0 in /usr/local/lib/python3.6/dist-packages (from tensorboardx) (3.10.0)\n",
            "Requirement already satisfied: setuptools in /usr/local/lib/python3.6/dist-packages (from protobuf>=3.8.0->tensorboardx) (42.0.2)\n"
          ],
          "name": "stdout"
        }
      ]
    },
    {
      "cell_type": "markdown",
      "metadata": {
        "id": "QftRefaoqXFS",
        "colab_type": "text"
      },
      "source": [
        "##Initializing logger"
      ]
    },
    {
      "cell_type": "code",
      "metadata": {
        "id": "lbn4KflDviJK",
        "colab_type": "code",
        "outputId": "952aefec-387d-469d-d125-c1d582c25df0",
        "colab": {
          "base_uri": "https://localhost:8080/",
          "height": 196
        }
      },
      "source": [
        "!wget https://bin.equinox.io/c/4VmDzA7iaHb/ngrok-stable-linux-amd64.zip"
      ],
      "execution_count": 0,
      "outputs": [
        {
          "output_type": "stream",
          "text": [
            "--2019-12-09 18:54:19--  https://bin.equinox.io/c/4VmDzA7iaHb/ngrok-stable-linux-amd64.zip\n",
            "Resolving bin.equinox.io (bin.equinox.io)... 3.225.101.71, 3.233.253.156, 3.82.169.244, ...\n",
            "Connecting to bin.equinox.io (bin.equinox.io)|3.225.101.71|:443... connected.\n",
            "HTTP request sent, awaiting response... 200 OK\n",
            "Length: 13773305 (13M) [application/octet-stream]\n",
            "Saving to: ‘ngrok-stable-linux-amd64.zip’\n",
            "\n",
            "ngrok-stable-linux- 100%[===================>]  13.13M  17.3MB/s    in 0.8s    \n",
            "\n",
            "2019-12-09 18:54:20 (17.3 MB/s) - ‘ngrok-stable-linux-amd64.zip’ saved [13773305/13773305]\n",
            "\n"
          ],
          "name": "stdout"
        }
      ]
    },
    {
      "cell_type": "markdown",
      "metadata": {
        "id": "Pw_8H3_Ay8_M",
        "colab_type": "text"
      },
      "source": [
        "### cada vez que te de palo debes correr este cell:\n"
      ]
    },
    {
      "cell_type": "markdown",
      "metadata": {
        "id": "pb0LnG98zT6U",
        "colab_type": "text"
      },
      "source": [
        "cuando te salga \"replace ngrok?\" le dices [y]es"
      ]
    },
    {
      "cell_type": "code",
      "metadata": {
        "id": "zjdKMs6ApqGW",
        "colab_type": "code",
        "outputId": "dc9228a5-e333-4fc0-8744-db60517480bb",
        "colab": {
          "base_uri": "https://localhost:8080/",
          "height": 82
        }
      },
      "source": [
        "!unzip ngrok-stable-linux-amd64.zip\n",
        "\n",
        "#from args import log_environment\n",
        "LOG_DIR = './log/'  # \n",
        "\n",
        "get_ipython().system_raw(\n",
        "    'tensorboard --logdir {} --host 0.0.0.0 --port 3131 &'\n",
        "    .format(LOG_DIR)\n",
        ")\n",
        "\n",
        "import time\n",
        "time.sleep(2)\n",
        "\n",
        "get_ipython().system_raw('./ngrok http 3131 &')\n",
        "\n",
        "time.sleep(2)\n",
        "\n",
        "! curl -s http://localhost:4040/api/tunnels | python3 -c \\\n",
        "    \"import sys, json; print(json.load(sys.stdin)['tunnels'][0]['public_url'])\""
      ],
      "execution_count": 0,
      "outputs": [
        {
          "output_type": "stream",
          "text": [
            "Archive:  ngrok-stable-linux-amd64.zip\n",
            "replace ngrok? [y]es, [n]o, [A]ll, [N]one, [r]ename: y\n",
            "  inflating: ngrok                   \n",
            "https://c522a1b7.ngrok.io\n"
          ],
          "name": "stdout"
        }
      ]
    },
    {
      "cell_type": "markdown",
      "metadata": {
        "id": "aYMtrfwYqLjQ",
        "colab_type": "text"
      },
      "source": [
        "## logging data"
      ]
    },
    {
      "cell_type": "code",
      "metadata": {
        "id": "Yltq1dFupx7I",
        "colab_type": "code",
        "outputId": "5db5f91a-7f43-4a65-9e68-4b093702c15f",
        "colab": {
          "base_uri": "https://localhost:8080/",
          "height": 33
        }
      },
      "source": [
        "import sys\n",
        "import random\n",
        "\n",
        "import datetime\n",
        "from tensorboardX import SummaryWriter\n",
        "writer = SummaryWriter(log_dir='./log/runs/logging-tutorial-{}'.format(datetime.datetime.now().strftime(\"%Y%m%d%H%M%S\")))\n",
        "\n",
        "for i in range(1000):\n",
        "  v = random.random()\n",
        "  writer.add_scalar('data/', v, i)\n",
        "  sys.stdout.write('\\riter: {0} logged value: {1:.03}'.format(i, v))"
      ],
      "execution_count": 0,
      "outputs": [
        {
          "output_type": "stream",
          "text": [
            "iter: 999 logged value: 0.14"
          ],
          "name": "stdout"
        }
      ]
    }
  ]
}