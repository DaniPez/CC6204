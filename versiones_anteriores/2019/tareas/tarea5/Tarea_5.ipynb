{
  "nbformat": 4,
  "nbformat_minor": 0,
  "metadata": {
    "colab": {
      "name": "Tarea_5_CC6204_2019",
      "provenance": [],
      "collapsed_sections": []
    },
    "kernelspec": {
      "name": "python3",
      "display_name": "Python 3"
    },
    "accelerator": "GPU"
  },
  "cells": [
    {
      "cell_type": "markdown",
      "metadata": {
        "id": "4zhjpqvcdo5o",
        "colab_type": "text"
      },
      "source": [
        "# Tarea 5: Redes Convolucionales <br/> CC6204 Deep Learning, Universidad de Chile \n",
        "\n",
        "**Fecha de entrega: 23 de diciembre de 2019 ([Hoja de respuestas](https://drive.google.com/file/d/1M6rHxgq213QREBSpj2wFzAJn3cMHJKyC/view?usp=sharing))**\n",
        "\n",
        "En esta tarea programarás arquitecturas de redes convolucionales y las probarás en los datos de [CIFAR10 y CIFAR100](https://www.cs.toronto.edu/~kriz/cifar.html)\n",
        "\n",
        "El material necesario para resolver esta tarea lo puedes encontrar en los siguiente artículos:\n",
        "* [Very Deep Convolutional Networks for Large-Scale Image Recognition](https://arxiv.org/abs/1409.1556) (VGG, ICLR2 2015) \n",
        "* [Going Deeper With Convolutions](https://www.cv-foundation.org/openaccess/content_cvpr_2015/html/Szegedy_Going_Deeper_With_2015_CVPR_paper.html) (InceptionNet, CVPR 2015)\n",
        "* [Deep Residual Learning for Image Recognition](https://arxiv.org/abs/1512.03385) (ResNet, CVPR 2016)\n",
        "* [Densely Connected Convolutional Networks](https://arxiv.org/abs/1608.06993) (DenseNet, CVPR 2017)\n",
        "\n",
        "(por Jorge Pérez, https://github.com/jorgeperezrojas, [@perez](https://twitter.com/perez))"
      ]
    },
    {
      "cell_type": "markdown",
      "metadata": {
        "id": "59JgEcA49TkN",
        "colab_type": "text"
      },
      "source": [
        "# Preliminares: Redes Convolucionales en `pytorch`\n",
        "\n",
        "En esta tarea empezaremos a usar redes de arquitecturas más complejas por lo que dejaremos todo el trabajo de cálculo de backpropagation y optimización a `pytorch`. Además usaremos las capas de convolución y pooling ya implementadas en `pytorch`. Para esta tarea puedes usar cualquiera de las clases de:\n",
        "\n",
        "* [`torch.nn`](https://pytorch.org/docs/stable/nn.html) para funcionalidades para capas convolucionales, de pooling, dropout, batch normalization, funciones de activación, etc.\n",
        "* [`torch.optim`](https://pytorch.org/docs/stable/optim.html) para funcionalidades de optimizadores como SGD, Adam, RMSProp,\n",
        "* [`torch.utils.data`](https://pytorch.org/docs/stable/data.html) para funcionalidades para cargar datos, y\n",
        "* [`torchvision.datasets`](https://pytorch.org/docs/stable/torchvision/datasets.html) con funcionalidades para cargar datos, en particular CIFAR10 y CIFAR100.\n",
        "\n",
        "Para guiarte en cómo usar estas funcionalidades y un ejemplo simple para CIFAR10, puedes ver el notebook de [Redes Convolucionales en `pytorch`](https://drive.google.com/file/d/1n7za4e0ihSYhKiTnHFNdynl752fW2rCB/view?usp=sharing). \n",
        "Te recomendamos estudiar también la documentación para aprender detalles."
      ]
    },
    {
      "cell_type": "markdown",
      "metadata": {
        "id": "Uy2hG--qmR90",
        "colab_type": "text"
      },
      "source": [
        "# Instrucciones Generales\n",
        "\n",
        "Elige dos arquitecturas entre las cuatro mencionadas en el inicio de la tarea (dos entre VGG, InceptionNet, ResNet, DenseNet). Debes programar ambas arquitecturas completas usando las funcionalidades de `pytorch` para procesar los datos de CIFAR10. Para esto, las arquitecturas deben considerar como entrada un tensor de dimensiones $(B,3,32,32)$ y como salida un tensor de dimensiones $(B,10)$. Mira los artículos de cada arquitectura para ver cuál es la mejor versión de cada arquitectura para CIFAR10. Al probar tus arquitecturas con CIFAR10 intenta alcanzar al menos un 80% de acierto en el conjunto de prueba. Mira el notebook de [Redes Convolucionales en `pytorch`](https://drive.google.com/file/d/1n7za4e0ihSYhKiTnHFNdynl752fW2rCB/view?usp=sharing) para guiarte en cómo usar CIFAR10 en `pytorch`.\n",
        "\n",
        "\n"
      ]
    },
    {
      "cell_type": "markdown",
      "metadata": {
        "id": "nwTQpC0eCKp3",
        "colab_type": "text"
      },
      "source": [
        "# Parte 1: Arquitectura Convolucional 1\n",
        "\n"
      ]
    },
    {
      "cell_type": "code",
      "metadata": {
        "id": "HMLkLKGFoTKa",
        "colab_type": "code",
        "colab": {}
      },
      "source": [
        "# Acá el código para tu primera arquitectura"
      ],
      "execution_count": null,
      "outputs": []
    },
    {
      "cell_type": "markdown",
      "metadata": {
        "id": "6Mw8PKh-uF7P",
        "colab_type": "text"
      },
      "source": [
        "# Parte 2: Arquitectura Convolucional 2\n",
        "\n"
      ]
    },
    {
      "cell_type": "code",
      "metadata": {
        "id": "fd3iSAd7oXKN",
        "colab_type": "code",
        "colab": {}
      },
      "source": [
        "# Acá el código para tu segunda arquitectura"
      ],
      "execution_count": null,
      "outputs": []
    },
    {
      "cell_type": "markdown",
      "metadata": {
        "id": "tE6uDwmJ94-W",
        "colab_type": "text"
      },
      "source": [
        "# Parte 3: Probando Ambas Arquitecturas con CIFAR10\n",
        "\n",
        "En esta parte debes probar tus dos arquitecturas. Incluye gráficos del entrenamiento para cada una y busca algunos hiperparámetros para obtener un buen acierto."
      ]
    },
    {
      "cell_type": "code",
      "metadata": {
        "id": "ecHwyZa6oxMc",
        "colab_type": "code",
        "colab": {}
      },
      "source": [
        "# Acá tu código"
      ],
      "execution_count": null,
      "outputs": []
    },
    {
      "cell_type": "markdown",
      "metadata": {
        "id": "kmALm7EtpFow",
        "colab_type": "text"
      },
      "source": [
        "# Opcional: CIFAR100\n",
        "\n",
        "Adapta alguna de tus arquitecturas (o si quieres, ambas) para que procesen el conjunto de datos CIFAR100 usando la [clase de `pytorch` para este dataset](https://pytorch.org/docs/stable/torchvision/datasets.html#torchvision.datasets.CIFAR100) y reporta tus resultados."
      ]
    },
    {
      "cell_type": "code",
      "metadata": {
        "id": "prIQA-PjpqV7",
        "colab_type": "code",
        "colab": {}
      },
      "source": [
        "# Acá tu código"
      ],
      "execution_count": null,
      "outputs": []
    }
  ]
}