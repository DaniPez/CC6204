{
  "nbformat": 4,
  "nbformat_minor": 0,
  "metadata": {
    "colab": {
      "name": "Conocimientos básicos de Colaboratory.ipynb",
      "version": "0.3.2",
      "views": {},
      "default_view": {},
      "provenance": []
    },
    "kernelspec": {
      "name": "python3",
      "display_name": "Python 3"
    },
    "accelerator": "GPU"
  },
  "cells": [
    {
      "metadata": {
        "id": "cASinp0oj7Wk",
        "colab_type": "text"
      },
      "cell_type": "markdown",
      "source": [
        "# Instalación de paquetes y uso de GPU"
      ]
    },
    {
      "metadata": {
        "id": "HPRii2-HEJwE",
        "colab_type": "text"
      },
      "cell_type": "markdown",
      "source": [
        "[Google Colaboratory](https://colab.research.google.com/) nos permite utilizar gratuitamente GPUs K80, para esto primero debemos activarlas !"
      ]
    },
    {
      "metadata": {
        "id": "9bTEYUxEFkU-",
        "colab_type": "text"
      },
      "cell_type": "markdown",
      "source": [
        "## Habilitar GPU Backend\n",
        "\n",
        "Habilitar el *GPU backend* para el notebook\n",
        "\n",
        "\n",
        "```\n",
        "\n",
        "Runtime -> Change runtime type -> Hardware Accelerator -> GPU\n",
        "\n",
        "\n",
        "```\n",
        "\n",
        "\n",
        "En español,\n",
        "\n",
        "\n",
        "```\n",
        "\n",
        "Entorno de ejecución -> Cambiar tipo de entorno de ejecución -> Acelerador por hardware -> GPU\n",
        "\n",
        "```"
      ]
    },
    {
      "metadata": {
        "id": "rn1FPwldA4wK",
        "colab_type": "text"
      },
      "cell_type": "markdown",
      "source": [
        "## Instalación de paquetes en [Google Colaboratory](https://colab.research.google.com/)\n",
        "\n",
        "\n",
        "Para instalar paquetes en colab se pueden instalar utilizando pip.\n",
        "\n",
        "```\n",
        "!pip install package\n",
        "```\n",
        "\n",
        "En caso de requerir paquetes externos a Python pueden instalarse utilizando:\n",
        "\n",
        "\n",
        "```\n",
        "!apt-get install package\n",
        "```\n",
        "\n",
        "\n",
        "Nota: El signo de exclamación al comienzo permite ejecutar comandos directamente en bash.\n"
      ]
    },
    {
      "metadata": {
        "id": "lZmgBQPiDgU3",
        "colab_type": "text"
      },
      "cell_type": "markdown",
      "source": [
        "### Ejemplo: Instalar [PyTorch](http://pytorch.org/) para Python 3.6 y CUDA Toolkit 8.0"
      ]
    },
    {
      "metadata": {
        "id": "QUB1m9WuD05N",
        "colab_type": "code",
        "colab": {
          "autoexec": {
            "startup": false,
            "wait_interval": 0
          },
          "output_extras": [
            {
              "item_id": 1
            }
          ],
          "base_uri": "https://localhost:8080/",
          "height": 121
        },
        "outputId": "a49fc0bc-3d64-472c-91b6-b2564d665a52",
        "executionInfo": {
          "status": "ok",
          "timestamp": 1521429114858,
          "user_tz": 180,
          "elapsed": 2110,
          "user": {
            "displayName": "Diego Valenzuela",
            "photoUrl": "//lh6.googleusercontent.com/-yC1S3sINJo8/AAAAAAAAAAI/AAAAAAAAAWQ/KjmnqiX4R_0/s50-c-k-no/photo.jpg",
            "userId": "105237571791367820180"
          }
        }
      },
      "cell_type": "code",
      "source": [
        "!pip3 install http://download.pytorch.org/whl/cu80/torch-0.3.1-cp36-cp36m-linux_x86_64.whl torchvision"
      ],
      "execution_count": 1,
      "outputs": [
        {
          "output_type": "stream",
          "text": [
            "Requirement already satisfied: torch==0.3.1 from http://download.pytorch.org/whl/cu80/torch-0.3.1-cp36-cp36m-linux_x86_64.whl in /usr/local/lib/python3.6/dist-packages\r\n",
            "Requirement already satisfied: torchvision in /usr/local/lib/python3.6/dist-packages\r\n",
            "Requirement already satisfied: pyyaml in /usr/local/lib/python3.6/dist-packages (from torch==0.3.1)\r\n",
            "Requirement already satisfied: numpy in /usr/local/lib/python3.6/dist-packages (from torch==0.3.1)\r\n",
            "Requirement already satisfied: pillow>=4.1.1 in /usr/local/lib/python3.6/dist-packages (from torchvision)\r\n",
            "Requirement already satisfied: six in /usr/local/lib/python3.6/dist-packages (from torchvision)\r\n"
          ],
          "name": "stdout"
        }
      ]
    },
    {
      "metadata": {
        "id": "1ZO4Ue57AdNO",
        "colab_type": "text"
      },
      "cell_type": "markdown",
      "source": [
        "### Ejemplo: Instalar GraphViz con Apt"
      ]
    },
    {
      "metadata": {
        "id": "0SKhtL6gAVmk",
        "colab_type": "code",
        "colab": {
          "autoexec": {
            "startup": false,
            "wait_interval": 0
          },
          "output_extras": [
            {
              "item_id": 4
            }
          ],
          "base_uri": "https://localhost:8080/",
          "height": 104
        },
        "outputId": "efd1b417-f529-491a-f5c5-13bee36aed23",
        "executionInfo": {
          "status": "ok",
          "timestamp": 1521429116906,
          "user_tz": 180,
          "elapsed": 1888,
          "user": {
            "displayName": "Diego Valenzuela",
            "photoUrl": "//lh6.googleusercontent.com/-yC1S3sINJo8/AAAAAAAAAAI/AAAAAAAAAWQ/KjmnqiX4R_0/s50-c-k-no/photo.jpg",
            "userId": "105237571791367820180"
          }
        }
      },
      "cell_type": "code",
      "source": [
        "# Install GraphViz with apt\n",
        "!apt install --upgrade graphviz -y"
      ],
      "execution_count": 2,
      "outputs": [
        {
          "output_type": "stream",
          "text": [
            "Reading package lists... Done\n",
            "Building dependency tree       \n",
            "Reading state information... Done\n",
            "graphviz is already the newest version (2.38.0-16ubuntu2).\n",
            "0 upgraded, 0 newly installed, 0 to remove and 0 not upgraded.\n"
          ],
          "name": "stdout"
        }
      ]
    },
    {
      "metadata": {
        "id": "yTHsw0lgFEfR",
        "colab_type": "text"
      },
      "cell_type": "markdown",
      "source": [
        "## Verificar que la GPU está activada"
      ]
    },
    {
      "metadata": {
        "id": "SqGobbrtE2ie",
        "colab_type": "code",
        "colab": {
          "autoexec": {
            "startup": false,
            "wait_interval": 0
          },
          "output_extras": [
            {
              "item_id": 1
            }
          ],
          "base_uri": "https://localhost:8080/",
          "height": 34
        },
        "outputId": "8ed1c833-33f5-46e9-8d07-aa058339e280",
        "executionInfo": {
          "status": "ok",
          "timestamp": 1521429117728,
          "user_tz": 180,
          "elapsed": 804,
          "user": {
            "displayName": "Diego Valenzuela",
            "photoUrl": "//lh6.googleusercontent.com/-yC1S3sINJo8/AAAAAAAAAAI/AAAAAAAAAWQ/KjmnqiX4R_0/s50-c-k-no/photo.jpg",
            "userId": "105237571791367820180"
          }
        }
      },
      "cell_type": "code",
      "source": [
        "import torch\n",
        "\n",
        "use_cuda = torch.cuda.is_available()\n",
        "\n",
        "print(use_cuda)"
      ],
      "execution_count": 3,
      "outputs": [
        {
          "output_type": "stream",
          "text": [
            "True\n"
          ],
          "name": "stdout"
        }
      ]
    },
    {
      "metadata": {
        "id": "zwBDe80xFTZr",
        "colab_type": "code",
        "colab": {
          "autoexec": {
            "startup": false,
            "wait_interval": 0
          },
          "output_extras": [
            {
              "item_id": 1
            }
          ],
          "base_uri": "https://localhost:8080/",
          "height": 34
        },
        "outputId": "6f58adaa-1f76-46a1-8d0e-b9657379593f",
        "executionInfo": {
          "status": "ok",
          "timestamp": 1521429118728,
          "user_tz": 180,
          "elapsed": 756,
          "user": {
            "displayName": "Diego Valenzuela",
            "photoUrl": "//lh6.googleusercontent.com/-yC1S3sINJo8/AAAAAAAAAAI/AAAAAAAAAWQ/KjmnqiX4R_0/s50-c-k-no/photo.jpg",
            "userId": "105237571791367820180"
          }
        }
      },
      "cell_type": "code",
      "source": [
        "device = torch.cuda.current_device()\n",
        "device"
      ],
      "execution_count": 4,
      "outputs": [
        {
          "output_type": "execute_result",
          "data": {
            "text/plain": [
              "0"
            ]
          },
          "metadata": {
            "tags": []
          },
          "execution_count": 4
        }
      ]
    },
    {
      "metadata": {
        "id": "BmYNS45nGhBJ",
        "colab_type": "code",
        "colab": {
          "autoexec": {
            "startup": false,
            "wait_interval": 0
          },
          "output_extras": [
            {
              "item_id": 1
            }
          ],
          "base_uri": "https://localhost:8080/",
          "height": 34
        },
        "outputId": "810fc547-97f8-43fd-b82b-df946966df65",
        "executionInfo": {
          "status": "ok",
          "timestamp": 1521429119530,
          "user_tz": 180,
          "elapsed": 526,
          "user": {
            "displayName": "Diego Valenzuela",
            "photoUrl": "//lh6.googleusercontent.com/-yC1S3sINJo8/AAAAAAAAAAI/AAAAAAAAAWQ/KjmnqiX4R_0/s50-c-k-no/photo.jpg",
            "userId": "105237571791367820180"
          }
        }
      },
      "cell_type": "code",
      "source": [
        "torch.cuda.get_device_name(device)"
      ],
      "execution_count": 5,
      "outputs": [
        {
          "output_type": "execute_result",
          "data": {
            "text/plain": [
              "'Tesla K80'"
            ]
          },
          "metadata": {
            "tags": []
          },
          "execution_count": 5
        }
      ]
    },
    {
      "metadata": {
        "id": "KlsK2jnRMvyj",
        "colab_type": "text"
      },
      "cell_type": "markdown",
      "source": [
        "## nvidia-smi"
      ]
    },
    {
      "metadata": {
        "id": "u1Gm9y_4NYDb",
        "colab_type": "code",
        "colab": {
          "autoexec": {
            "startup": false,
            "wait_interval": 0
          }
        }
      },
      "cell_type": "code",
      "source": [
        "# Elimina link simbolico si ya existe, por fines pedagógicos\n",
        "\n",
        "import os\n",
        "if os.path.exists('/usr/bin/nvidia-smi'):\n",
        "  !rm -R /usr/bin/nvidia-smi"
      ],
      "execution_count": 0,
      "outputs": []
    },
    {
      "metadata": {
        "id": "1yQ-w_0INSWK",
        "colab_type": "code",
        "colab": {
          "autoexec": {
            "startup": false,
            "wait_interval": 0
          },
          "output_extras": [
            {
              "item_id": 1
            }
          ],
          "base_uri": "https://localhost:8080/",
          "height": 34
        },
        "outputId": "3ba85db8-8215-4e36-91af-cb4f3d04ced2",
        "executionInfo": {
          "status": "ok",
          "timestamp": 1521429122840,
          "user_tz": 180,
          "elapsed": 734,
          "user": {
            "displayName": "Diego Valenzuela",
            "photoUrl": "//lh6.googleusercontent.com/-yC1S3sINJo8/AAAAAAAAAAI/AAAAAAAAAWQ/KjmnqiX4R_0/s50-c-k-no/photo.jpg",
            "userId": "105237571791367820180"
          }
        }
      },
      "cell_type": "code",
      "source": [
        "!nvidia-smi"
      ],
      "execution_count": 7,
      "outputs": [
        {
          "output_type": "stream",
          "text": [
            "/bin/sh: 1: nvidia-smi: not found\r\n"
          ],
          "name": "stdout"
        }
      ]
    },
    {
      "metadata": {
        "id": "bbkv7rpLMx7e",
        "colab_type": "code",
        "colab": {
          "autoexec": {
            "startup": false,
            "wait_interval": 0
          },
          "output_extras": [
            {
              "item_id": 1
            }
          ],
          "base_uri": "https://localhost:8080/",
          "height": 312
        },
        "outputId": "42bd0fc7-1394-4b14-f22e-812b5392d50b",
        "executionInfo": {
          "status": "ok",
          "timestamp": 1521429123822,
          "user_tz": 180,
          "elapsed": 612,
          "user": {
            "displayName": "Diego Valenzuela",
            "photoUrl": "//lh6.googleusercontent.com/-yC1S3sINJo8/AAAAAAAAAAI/AAAAAAAAAWQ/KjmnqiX4R_0/s50-c-k-no/photo.jpg",
            "userId": "105237571791367820180"
          }
        }
      },
      "cell_type": "code",
      "source": [
        "!/opt/bin/nvidia-smi"
      ],
      "execution_count": 8,
      "outputs": [
        {
          "output_type": "stream",
          "text": [
            "Mon Mar 19 03:12:03 2018       \r\n",
            "+-----------------------------------------------------------------------------+\r\n",
            "| NVIDIA-SMI 375.51                 Driver Version: 375.51                    |\r\n",
            "|-------------------------------+----------------------+----------------------+\r\n",
            "| GPU  Name        Persistence-M| Bus-Id        Disp.A | Volatile Uncorr. ECC |\r\n",
            "| Fan  Temp  Perf  Pwr:Usage/Cap|         Memory-Usage | GPU-Util  Compute M. |\r\n",
            "|===============================+======================+======================|\r\n",
            "|   0  Tesla K80           Off  | 0000:00:04.0     Off |                    0 |\r\n",
            "| N/A   38C    P8    30W / 149W |      2MiB / 11439MiB |      0%      Default |\r\n",
            "+-------------------------------+----------------------+----------------------+\r\n",
            "                                                                               \r\n",
            "+-----------------------------------------------------------------------------+\r\n",
            "| Processes:                                                       GPU Memory |\r\n",
            "|  GPU       PID  Type  Process name                               Usage      |\r\n",
            "|=============================================================================|\r\n",
            "|  No running processes found                                                 |\r\n",
            "+-----------------------------------------------------------------------------+\r\n"
          ],
          "name": "stdout"
        }
      ]
    },
    {
      "metadata": {
        "id": "5_b8pKURNFNk",
        "colab_type": "code",
        "colab": {
          "autoexec": {
            "startup": false,
            "wait_interval": 0
          }
        }
      },
      "cell_type": "code",
      "source": [
        "# Crear link simbólico\n",
        "!ln -sf /opt/bin/nvidia-smi /usr/bin/nvidia-smi"
      ],
      "execution_count": 0,
      "outputs": []
    },
    {
      "metadata": {
        "id": "DzOO3OdINGk4",
        "colab_type": "code",
        "colab": {
          "autoexec": {
            "startup": false,
            "wait_interval": 0
          },
          "output_extras": [
            {
              "item_id": 1
            }
          ],
          "base_uri": "https://localhost:8080/",
          "height": 312
        },
        "outputId": "1715b61a-809f-4388-a468-564e1dc0604d",
        "executionInfo": {
          "status": "ok",
          "timestamp": 1521429125506,
          "user_tz": 180,
          "elapsed": 756,
          "user": {
            "displayName": "Diego Valenzuela",
            "photoUrl": "//lh6.googleusercontent.com/-yC1S3sINJo8/AAAAAAAAAAI/AAAAAAAAAWQ/KjmnqiX4R_0/s50-c-k-no/photo.jpg",
            "userId": "105237571791367820180"
          }
        }
      },
      "cell_type": "code",
      "source": [
        "!nvidia-smi"
      ],
      "execution_count": 10,
      "outputs": [
        {
          "output_type": "stream",
          "text": [
            "Mon Mar 19 03:12:05 2018       \r\n",
            "+-----------------------------------------------------------------------------+\r\n",
            "| NVIDIA-SMI 375.51                 Driver Version: 375.51                    |\r\n",
            "|-------------------------------+----------------------+----------------------+\r\n",
            "| GPU  Name        Persistence-M| Bus-Id        Disp.A | Volatile Uncorr. ECC |\r\n",
            "| Fan  Temp  Perf  Pwr:Usage/Cap|         Memory-Usage | GPU-Util  Compute M. |\r\n",
            "|===============================+======================+======================|\r\n",
            "|   0  Tesla K80           Off  | 0000:00:04.0     Off |                    0 |\r\n",
            "| N/A   38C    P8    30W / 149W |      2MiB / 11439MiB |      0%      Default |\r\n",
            "+-------------------------------+----------------------+----------------------+\r\n",
            "                                                                               \r\n",
            "+-----------------------------------------------------------------------------+\r\n",
            "| Processes:                                                       GPU Memory |\r\n",
            "|  GPU       PID  Type  Process name                               Usage      |\r\n",
            "|=============================================================================|\r\n",
            "|  No running processes found                                                 |\r\n",
            "+-----------------------------------------------------------------------------+\r\n"
          ],
          "name": "stdout"
        }
      ]
    },
    {
      "metadata": {
        "id": "LZYyxrQXJr74",
        "colab_type": "text"
      },
      "cell_type": "markdown",
      "source": [
        "## Ver memoria disponible en GPU"
      ]
    },
    {
      "metadata": {
        "id": "hk_FozlLJvzk",
        "colab_type": "code",
        "colab": {
          "autoexec": {
            "startup": false,
            "wait_interval": 0
          },
          "output_extras": [
            {
              "item_id": 1
            }
          ],
          "base_uri": "https://localhost:8080/",
          "height": 52
        },
        "outputId": "146543a3-79f2-403b-9628-1aa99ebe3793",
        "executionInfo": {
          "status": "ok",
          "timestamp": 1521429128190,
          "user_tz": 180,
          "elapsed": 1276,
          "user": {
            "displayName": "Diego Valenzuela",
            "photoUrl": "//lh6.googleusercontent.com/-yC1S3sINJo8/AAAAAAAAAAI/AAAAAAAAAWQ/KjmnqiX4R_0/s50-c-k-no/photo.jpg",
            "userId": "105237571791367820180"
          }
        }
      },
      "cell_type": "code",
      "source": [
        "!ln -sf /opt/bin/nvidia-smi /usr/bin/nvidia-smi # Crear link virtual para nvidia-smi\n",
        "\n",
        "!nvidia-smi --query-gpu=memory.total,memory.used,memory.free --format=csv"
      ],
      "execution_count": 11,
      "outputs": [
        {
          "output_type": "stream",
          "text": [
            "memory.total [MiB], memory.used [MiB], memory.free [MiB]\r\n",
            "11439 MiB, 2 MiB, 11437 MiB\r\n"
          ],
          "name": "stdout"
        }
      ]
    },
    {
      "metadata": {
        "id": "QWItWAtxKIbg",
        "colab_type": "text"
      },
      "cell_type": "markdown",
      "source": [
        "## Para liberar la memoria de la GPU debemos ir a \n",
        "\n",
        "\n",
        "\n",
        "```\n",
        "\n",
        "-> Runtime -> Restart runtime ...\n",
        "\n",
        "```\n",
        "\n",
        "\n",
        "O bien, ejecutar el comando de teclas\n",
        "\n",
        "\n",
        "\n",
        "```\n",
        "\n",
        "ctrl + m + .\n",
        "\n",
        "```"
      ]
    },
    {
      "metadata": {
        "id": "1b3mj4umINEi",
        "colab_type": "text"
      },
      "cell_type": "markdown",
      "source": [
        "# Recursos de Colaboratory\n",
        "\n",
        "En Colaboratory puedes hacer uso de \n",
        "\n",
        "\n",
        "* ** 1 GPU Tesla K80 de approx ~ 12 G  **\n",
        "\n",
        "* ** 2 vCPU Intel(R) Xeon(R) CPU @ 2.30GHz **\n",
        "\n",
        "* ** ~ 12 Gigas de RAM**\n",
        "* ** ~ 800 G de almacenamiento**"
      ]
    },
    {
      "metadata": {
        "id": "hibvmTgTIUx6",
        "colab_type": "code",
        "colab": {
          "autoexec": {
            "startup": false,
            "wait_interval": 0
          },
          "output_extras": [
            {
              "item_id": 1
            }
          ],
          "base_uri": "https://localhost:8080/",
          "height": 34
        },
        "outputId": "a2d2a35e-a7f4-4a42-f814-2df4a5c111ef",
        "executionInfo": {
          "status": "ok",
          "timestamp": 1521429133586,
          "user_tz": 180,
          "elapsed": 3810,
          "user": {
            "displayName": "Diego Valenzuela",
            "photoUrl": "//lh6.googleusercontent.com/-yC1S3sINJo8/AAAAAAAAAAI/AAAAAAAAAWQ/KjmnqiX4R_0/s50-c-k-no/photo.jpg",
            "userId": "105237571791367820180"
          }
        }
      },
      "cell_type": "code",
      "source": [
        "import tensorflow as tf\n",
        "tf.test.gpu_device_name()"
      ],
      "execution_count": 12,
      "outputs": [
        {
          "output_type": "execute_result",
          "data": {
            "text/plain": [
              "'/device:GPU:0'"
            ]
          },
          "metadata": {
            "tags": []
          },
          "execution_count": 12
        }
      ]
    },
    {
      "metadata": {
        "id": "h5pi6AiPIVVG",
        "colab_type": "code",
        "colab": {
          "autoexec": {
            "startup": false,
            "wait_interval": 0
          },
          "output_extras": [
            {
              "item_id": 1
            }
          ],
          "base_uri": "https://localhost:8080/",
          "height": 243
        },
        "outputId": "8b166a8e-17d4-49e6-c691-6bbad125a09d",
        "executionInfo": {
          "status": "ok",
          "timestamp": 1521429134312,
          "user_tz": 180,
          "elapsed": 670,
          "user": {
            "displayName": "Diego Valenzuela",
            "photoUrl": "//lh6.googleusercontent.com/-yC1S3sINJo8/AAAAAAAAAAI/AAAAAAAAAWQ/KjmnqiX4R_0/s50-c-k-no/photo.jpg",
            "userId": "105237571791367820180"
          }
        }
      },
      "cell_type": "code",
      "source": [
        "from tensorflow.python.client import device_lib\n",
        "device_lib.list_local_devices()"
      ],
      "execution_count": 13,
      "outputs": [
        {
          "output_type": "execute_result",
          "data": {
            "text/plain": [
              "[name: \"/device:CPU:0\"\n",
              " device_type: \"CPU\"\n",
              " memory_limit: 268435456\n",
              " locality {\n",
              " }\n",
              " incarnation: 15444903991265509284, name: \"/device:GPU:0\"\n",
              " device_type: \"GPU\"\n",
              " memory_limit: 349175808\n",
              " locality {\n",
              "   bus_id: 1\n",
              " }\n",
              " incarnation: 1633684727779028715\n",
              " physical_device_desc: \"device: 0, name: Tesla K80, pci bus id: 0000:00:04.0, compute capability: 3.7\"]"
            ]
          },
          "metadata": {
            "tags": []
          },
          "execution_count": 13
        }
      ]
    },
    {
      "metadata": {
        "id": "4ybutDGjIY0i",
        "colab_type": "code",
        "colab": {
          "autoexec": {
            "startup": false,
            "wait_interval": 0
          },
          "output_extras": [
            {
              "item_id": 1
            }
          ],
          "base_uri": "https://localhost:8080/",
          "height": 975
        },
        "outputId": "fcc51db8-b835-4de0-f01f-2d589b826e70",
        "executionInfo": {
          "status": "ok",
          "timestamp": 1521429135560,
          "user_tz": 180,
          "elapsed": 794,
          "user": {
            "displayName": "Diego Valenzuela",
            "photoUrl": "//lh6.googleusercontent.com/-yC1S3sINJo8/AAAAAAAAAAI/AAAAAAAAAWQ/KjmnqiX4R_0/s50-c-k-no/photo.jpg",
            "userId": "105237571791367820180"
          }
        }
      },
      "cell_type": "code",
      "source": [
        "!cat /proc/cpuinfo"
      ],
      "execution_count": 14,
      "outputs": [
        {
          "output_type": "stream",
          "text": [
            "processor\t: 0\r\n",
            "vendor_id\t: GenuineIntel\r\n",
            "cpu family\t: 6\r\n",
            "model\t\t: 63\r\n",
            "model name\t: Intel(R) Xeon(R) CPU @ 2.30GHz\r\n",
            "stepping\t: 0\r\n",
            "microcode\t: 0x1\r\n",
            "cpu MHz\t\t: 2300.000\r\n",
            "cache size\t: 46080 KB\r\n",
            "physical id\t: 0\r\n",
            "siblings\t: 2\r\n",
            "core id\t\t: 0\r\n",
            "cpu cores\t: 1\r\n",
            "apicid\t\t: 0\r\n",
            "initial apicid\t: 0\r\n",
            "fpu\t\t: yes\r\n",
            "fpu_exception\t: yes\r\n",
            "cpuid level\t: 13\r\n",
            "wp\t\t: yes\r\n",
            "flags\t\t: fpu vme de pse tsc msr pae mce cx8 apic sep mtrr pge mca cmov pat pse36 clflush mmx fxsr sse sse2 ss ht syscall nx pdpe1gb rdtscp lm constant_tsc rep_good nopl xtopology nonstop_tsc eagerfpu pni pclmulqdq ssse3 fma cx16 sse4_1 sse4_2 x2apic movbe popcnt aes xsave avx f16c rdrand hypervisor lahf_lm abm fsgsbase tsc_adjust bmi1 avx2 smep bmi2 erms xsaveopt\r\n",
            "bugs\t\t:\r\n",
            "bogomips\t: 4600.00\r\n",
            "clflush size\t: 64\r\n",
            "cache_alignment\t: 64\r\n",
            "address sizes\t: 46 bits physical, 48 bits virtual\r\n",
            "power management:\r\n",
            "\r\n",
            "processor\t: 1\r\n",
            "vendor_id\t: GenuineIntel\r\n",
            "cpu family\t: 6\r\n",
            "model\t\t: 63\r\n",
            "model name\t: Intel(R) Xeon(R) CPU @ 2.30GHz\r\n",
            "stepping\t: 0\r\n",
            "microcode\t: 0x1\r\n",
            "cpu MHz\t\t: 2300.000\r\n",
            "cache size\t: 46080 KB\r\n",
            "physical id\t: 0\r\n",
            "siblings\t: 2\r\n",
            "core id\t\t: 0\r\n",
            "cpu cores\t: 1\r\n",
            "apicid\t\t: 1\r\n",
            "initial apicid\t: 1\r\n",
            "fpu\t\t: yes\r\n",
            "fpu_exception\t: yes\r\n",
            "cpuid level\t: 13\r\n",
            "wp\t\t: yes\r\n",
            "flags\t\t: fpu vme de pse tsc msr pae mce cx8 apic sep mtrr pge mca cmov pat pse36 clflush mmx fxsr sse sse2 ss ht syscall nx pdpe1gb rdtscp lm constant_tsc rep_good nopl xtopology nonstop_tsc eagerfpu pni pclmulqdq ssse3 fma cx16 sse4_1 sse4_2 x2apic movbe popcnt aes xsave avx f16c rdrand hypervisor lahf_lm abm fsgsbase tsc_adjust bmi1 avx2 smep bmi2 erms xsaveopt\r\n",
            "bugs\t\t:\r\n",
            "bogomips\t: 4600.00\r\n",
            "clflush size\t: 64\r\n",
            "cache_alignment\t: 64\r\n",
            "address sizes\t: 46 bits physical, 48 bits virtual\r\n",
            "power management:\r\n",
            "\r\n"
          ],
          "name": "stdout"
        }
      ]
    },
    {
      "metadata": {
        "id": "2yRsdsLpIdfA",
        "colab_type": "code",
        "colab": {
          "autoexec": {
            "startup": false,
            "wait_interval": 0
          },
          "output_extras": [
            {
              "item_id": 1
            }
          ],
          "base_uri": "https://localhost:8080/",
          "height": 764
        },
        "outputId": "778788a8-a57c-4260-bdbf-579a483f2d75",
        "executionInfo": {
          "status": "ok",
          "timestamp": 1521429136622,
          "user_tz": 180,
          "elapsed": 1020,
          "user": {
            "displayName": "Diego Valenzuela",
            "photoUrl": "//lh6.googleusercontent.com/-yC1S3sINJo8/AAAAAAAAAAI/AAAAAAAAAWQ/KjmnqiX4R_0/s50-c-k-no/photo.jpg",
            "userId": "105237571791367820180"
          }
        }
      },
      "cell_type": "code",
      "source": [
        "!cat /proc/meminfo"
      ],
      "execution_count": 15,
      "outputs": [
        {
          "output_type": "stream",
          "text": [
            "MemTotal:       13341960 kB\r\n",
            "MemFree:         1884708 kB\r\n",
            "MemAvailable:   10631680 kB\r\n",
            "Buffers:          735184 kB\r\n",
            "Cached:          7544188 kB\r\n",
            "SwapCached:            0 kB\r\n",
            "Active:          5945440 kB\r\n",
            "Inactive:        4299640 kB\r\n",
            "Active(anon):    2127104 kB\r\n",
            "Inactive(anon):   123328 kB\r\n",
            "Active(file):    3818336 kB\r\n",
            "Inactive(file):  4176312 kB\r\n",
            "Unevictable:           0 kB\r\n",
            "Mlocked:               0 kB\r\n",
            "SwapTotal:             0 kB\r\n",
            "SwapFree:              0 kB\r\n",
            "Dirty:              2068 kB\r\n",
            "Writeback:             0 kB\r\n",
            "AnonPages:       1965788 kB\r\n",
            "Mapped:           532948 kB\r\n",
            "Shmem:            284736 kB\r\n",
            "Slab:            1037440 kB\r\n",
            "SReclaimable:    1005740 kB\r\n",
            "SUnreclaim:        31700 kB\r\n",
            "KernelStack:        3600 kB\r\n",
            "PageTables:        11636 kB\r\n",
            "NFS_Unstable:          0 kB\r\n",
            "Bounce:                0 kB\r\n",
            "WritebackTmp:          0 kB\r\n",
            "CommitLimit:     6670980 kB\r\n",
            "Committed_AS:    3661960 kB\r\n",
            "VmallocTotal:   34359738367 kB\r\n",
            "VmallocUsed:           0 kB\r\n",
            "VmallocChunk:          0 kB\r\n",
            "AnonHugePages:         0 kB\r\n",
            "HugePages_Total:       0\r\n",
            "HugePages_Free:        0\r\n",
            "HugePages_Rsvd:        0\r\n",
            "HugePages_Surp:        0\r\n",
            "Hugepagesize:       2048 kB\r\n",
            "DirectMap4k:      210892 kB\r\n",
            "DirectMap2M:     7129088 kB\r\n",
            "DirectMap1G:     8388608 kB\r\n"
          ],
          "name": "stdout"
        }
      ]
    },
    {
      "metadata": {
        "id": "jh8nEodlOqK4",
        "colab_type": "text"
      },
      "cell_type": "markdown",
      "source": [
        "### RAM"
      ]
    },
    {
      "metadata": {
        "id": "Wemc0NfaIfFs",
        "colab_type": "code",
        "colab": {
          "autoexec": {
            "startup": false,
            "wait_interval": 0
          },
          "output_extras": [
            {
              "item_id": 1
            }
          ],
          "base_uri": "https://localhost:8080/",
          "height": 69
        },
        "outputId": "2dd68e29-b3d5-4a42-fc0f-1a234557432b",
        "executionInfo": {
          "status": "ok",
          "timestamp": 1521429137620,
          "user_tz": 180,
          "elapsed": 972,
          "user": {
            "displayName": "Diego Valenzuela",
            "photoUrl": "//lh6.googleusercontent.com/-yC1S3sINJo8/AAAAAAAAAAI/AAAAAAAAAWQ/KjmnqiX4R_0/s50-c-k-no/photo.jpg",
            "userId": "105237571791367820180"
          }
        }
      },
      "cell_type": "code",
      "source": [
        "!free -m"
      ],
      "execution_count": 16,
      "outputs": [
        {
          "output_type": "stream",
          "text": [
            "              total        used        free      shared  buff/cache   available\r\n",
            "Mem:          13029        2122        1838         278        9067       10380\r\n",
            "Swap:             0           0           0\r\n"
          ],
          "name": "stdout"
        }
      ]
    },
    {
      "metadata": {
        "id": "iBAVUUTvOoEg",
        "colab_type": "text"
      },
      "cell_type": "markdown",
      "source": [
        "### Almacenamiento"
      ]
    },
    {
      "metadata": {
        "id": "I78nZ7cQMani",
        "colab_type": "code",
        "colab": {
          "autoexec": {
            "startup": false,
            "wait_interval": 0
          },
          "output_extras": [
            {
              "item_id": 2
            }
          ],
          "base_uri": "https://localhost:8080/",
          "height": 52
        },
        "outputId": "1244a39b-231b-44a9-f035-20669a79fd17",
        "executionInfo": {
          "status": "ok",
          "timestamp": 1521429138834,
          "user_tz": 180,
          "elapsed": 1062,
          "user": {
            "displayName": "Diego Valenzuela",
            "photoUrl": "//lh6.googleusercontent.com/-yC1S3sINJo8/AAAAAAAAAAI/AAAAAAAAAWQ/KjmnqiX4R_0/s50-c-k-no/photo.jpg",
            "userId": "105237571791367820180"
          }
        }
      },
      "cell_type": "code",
      "source": [
        "!df -h --total | grep Filesystem\n",
        "!df -h --total | grep total"
      ],
      "execution_count": 17,
      "outputs": [
        {
          "output_type": "stream",
          "text": [
            "Filesystem      Size  Used Avail Use% Mounted on\n",
            "total           757G   16G  742G   3% -\n"
          ],
          "name": "stdout"
        }
      ]
    },
    {
      "metadata": {
        "id": "rtl5Z5cKPjRC",
        "colab_type": "code",
        "colab": {
          "autoexec": {
            "startup": false,
            "wait_interval": 0
          }
        }
      },
      "cell_type": "code",
      "source": [
        ""
      ],
      "execution_count": 0,
      "outputs": []
    }
  ]
}
