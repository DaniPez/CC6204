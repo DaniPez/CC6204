{
 "cells": [
  {
   "cell_type": "markdown",
   "metadata": {
    "id": "-Z_G8G_5Ov_i",
    "colab_type": "text"
   },
   "source": [
    "## Básico de PyTorch\n",
    "\n",
    "### Instalar PyTorch (solo si es necesario)"
   ]
  },
  {
   "cell_type": "code",
   "execution_count": 0,
   "metadata": {
    "id": "Y8ifapN0OsTs",
    "colab_type": "code",
    "colab": {
     "autoexec": {
      "startup": false,
      "wait_interval": 0.0
     }
    }
   },
   "outputs": [],
   "source": [
    "# http://pytorch.org/\n",
    "from os import path\n",
    "from wheel.pep425tags import get_abbr_impl, get_impl_ver, get_abi_tag\n",
    "platform = '{}{}-{}'.format(get_abbr_impl(), get_impl_ver(), get_abi_tag())\n",
    "\n",
    "accelerator = 'cu80' if path.exists('/opt/bin/nvidia-smi') else 'cpu'\n",
    "\n",
    "!pip install -q http://download.pytorch.org/whl/{accelerator}/torch-0.3.0.post4-{platform}-linux_x86_64.whl torchvision"
   ]
  },
  {
   "cell_type": "markdown",
   "metadata": {
    "id": "Y-sIYVXmO848",
    "colab_type": "text"
   },
   "source": [
    "### Importar PyTorch"
   ]
  },
  {
   "cell_type": "code",
   "execution_count": 0,
   "metadata": {
    "id": "87UefAYWO6XA",
    "colab_type": "code",
    "colab": {
     "autoexec": {
      "startup": false,
      "wait_interval": 0.0
     }
    }
   },
   "outputs": [],
   "source": [
    "import torch\n",
    "\n",
    "torch.manual_seed(57)\n",
    "torch.cuda.manual_seed(57)"
   ]
  },
  {
   "cell_type": "markdown",
   "metadata": {
    "id": "-b4Eysi1PEua",
    "colab_type": "text"
   },
   "source": [
    "### Manejo de tensores"
   ]
  },
  {
   "cell_type": "code",
   "execution_count": 3,
   "metadata": {
    "id": "ONp15HorO4rW",
    "colab_type": "code",
    "colab": {
     "autoexec": {
      "startup": false,
      "wait_interval": 0.0
     },
     "output_extras": [
      {
       "item_id": 1.0
      }
     ],
     "base_uri": "https://localhost:8080/",
     "height": 311.0
    },
    "outputId": "5258e4c8-d96b-416b-e680-6a40aaa9e14f",
    "executionInfo": {
     "status": "ok",
     "timestamp": 1.521433837548E12,
     "user_tz": 180.0,
     "elapsed": 654.0,
     "user": {
      "displayName": "Roberto Andres Ibañez Aliaga",
      "photoUrl": "https://lh3.googleusercontent.com/a/default-user=s128",
      "userId": "112930615369233669975"
     }
    }
   },
   "outputs": [
    {
     "name": "stdout",
     "output_type": "stream",
     "text": [
      "a = \n",
      " 1  1  1\n",
      " 1  1  1\n",
      "[torch.FloatTensor of size 2x3]\n",
      "\n",
      "b = \n",
      " 0.1446 -0.1165  0.6929 -0.9161  0.7318\n",
      " 0.3884  0.9109 -0.3629  0.0863  1.6861\n",
      " 0.6063  0.2161  0.1916  0.7942 -0.9371\n",
      "[torch.FloatTensor of size 3x5]\n",
      "\n",
      "c = \n",
      "-0.5658  0.1868  0.4321\n",
      " 1.3346  0.7961  0.9092\n",
      "[torch.FloatTensor of size 2x3]\n",
      "\n"
     ]
    }
   ],
   "source": [
    "## Creación de tensores, inicializados en 1 o en random\n",
    "a = torch.ones(2,3)\n",
    "b = torch.randn(3,5)\n",
    "c = torch.randn(2,3)\n",
    "\n",
    "print(\"a = {}\".format(a))\n",
    "print(\"b = {}\".format(b))\n",
    "print(\"c = {}\".format(c))"
   ]
  },
  {
   "cell_type": "code",
   "execution_count": 4,
   "metadata": {
    "id": "PIj7FetTQAwI",
    "colab_type": "code",
    "colab": {
     "autoexec": {
      "startup": false,
      "wait_interval": 0.0
     },
     "output_extras": [
      {
       "item_id": 1.0
      }
     ],
     "base_uri": "https://localhost:8080/",
     "height": 201.0
    },
    "outputId": "de717358-63f2-4f50-d608-c8c2067ab7a8",
    "executionInfo": {
     "status": "ok",
     "timestamp": 1.521433838396E12,
     "user_tz": 180.0,
     "elapsed": 618.0,
     "user": {
      "displayName": "Roberto Andres Ibañez Aliaga",
      "photoUrl": "https://lh3.googleusercontent.com/a/default-user=s128",
      "userId": "112930615369233669975"
     }
    }
   },
   "outputs": [
    {
     "name": "stdout",
     "output_type": "stream",
     "text": [
      "a*b = \n",
      " 1.1392  1.0105  0.5216 -0.0356  1.4807\n",
      " 1.1392  1.0105  0.5216 -0.0356  1.4807\n",
      "[torch.FloatTensor of size 2x5]\n",
      "\n",
      "a*c = \n",
      "-0.5658  0.1868  0.4321\n",
      " 1.3346  0.7961  0.9092\n",
      "[torch.FloatTensor of size 2x3]\n",
      "\n"
     ]
    }
   ],
   "source": [
    "## Multiplicación de matrices \n",
    "d = torch.mm(a,b)\n",
    "print(\"a*b = {}\".format(d))\n",
    "\n",
    "\n",
    "## multiplicacion elemento a elemento a_{i,i} * c{i,i}\n",
    "e = torch.mul(a,c)\n",
    "print(\"a*c = {}\".format(e))"
   ]
  },
  {
   "cell_type": "code",
   "execution_count": 5,
   "metadata": {
    "id": "d2oyoMqtQH3i",
    "colab_type": "code",
    "colab": {
     "autoexec": {
      "startup": false,
      "wait_interval": 0.0
     },
     "output_extras": [
      {
       "item_id": 1.0
      }
     ],
     "base_uri": "https://localhost:8080/",
     "height": 109.0
    },
    "outputId": "e4821308-b2d0-459a-87e8-3ea95cf48878",
    "executionInfo": {
     "status": "ok",
     "timestamp": 1.521433839268E12,
     "user_tz": 180.0,
     "elapsed": 696.0,
     "user": {
      "displayName": "Roberto Andres Ibañez Aliaga",
      "photoUrl": "https://lh3.googleusercontent.com/a/default-user=s128",
      "userId": "112930615369233669975"
     }
    }
   },
   "outputs": [
    {
     "name": "stdout",
     "output_type": "stream",
     "text": [
      "a*b  + f = \n",
      " 2.7658  1.3548  1.3687 -0.1158  1.9829\n",
      " 0.8710  1.7225  1.1051 -0.3464  1.9967\n",
      "[torch.FloatTensor of size 2x5]\n",
      "\n"
     ]
    }
   ],
   "source": [
    "f = torch.randn(2,5)\n",
    "g = torch.add(d, f)\n",
    "\n",
    "print(\"a*b  + f = {}\".format(g))"
   ]
  },
  {
   "cell_type": "code",
   "execution_count": 6,
   "metadata": {
    "id": "6MzY2zpjSv0E",
    "colab_type": "code",
    "colab": {
     "autoexec": {
      "startup": false,
      "wait_interval": 0.0
     },
     "output_extras": [
      {
       "item_id": 1.0
      }
     ],
     "base_uri": "https://localhost:8080/",
     "height": 678.0
    },
    "outputId": "ffbd8330-ad8b-43ca-e24b-14bef5ceac24",
    "executionInfo": {
     "status": "ok",
     "timestamp": 1.521433840082E12,
     "user_tz": 180.0,
     "elapsed": 590.0,
     "user": {
      "displayName": "Roberto Andres Ibañez Aliaga",
      "photoUrl": "https://lh3.googleusercontent.com/a/default-user=s128",
      "userId": "112930615369233669975"
     }
    }
   },
   "outputs": [
    {
     "name": "stdout",
     "output_type": "stream",
     "text": [
      "x = \n",
      "-0.6526  0.7559 -0.6901 -0.8667\n",
      " 0.0225 -0.5043  0.3971 -1.5045\n",
      " 0.3958  1.0055  2.0187 -0.4948\n",
      " 2.1201 -0.7088  0.3814  0.2125\n",
      "[torch.FloatTensor of size 4x4]\n",
      "\n",
      "y = {} \n",
      "-0.6526\n",
      " 0.7559\n",
      "-0.6901\n",
      "-0.8667\n",
      " 0.0225\n",
      "-0.5043\n",
      " 0.3971\n",
      "-1.5045\n",
      " 0.3958\n",
      " 1.0055\n",
      " 2.0187\n",
      "-0.4948\n",
      " 2.1201\n",
      "-0.7088\n",
      " 0.3814\n",
      " 0.2125\n",
      "[torch.FloatTensor of size 16]\n",
      "\n",
      "z = \n",
      "-0.6526  0.7559 -0.6901 -0.8667  0.0225 -0.5043  0.3971 -1.5045\n",
      " 0.3958  1.0055  2.0187 -0.4948  2.1201 -0.7088  0.3814  0.2125\n",
      "[torch.FloatTensor of size 2x8]\n",
      "\n",
      "z = \n",
      "-0.6526  0.7559 -0.6901 -0.8667  0.0225 -0.5043  0.3971 -1.5045\n",
      " 0.3958  1.0055  2.0187 -0.4948  2.1201 -0.7088  0.3814  0.2125\n",
      "[torch.FloatTensor of size 2x8]\n",
      "\n"
     ]
    }
   ],
   "source": [
    "## redimensionar tensores\n",
    "\n",
    "x = torch.randn(4, 4)\n",
    "print(\"x = {}\".format(x))\n",
    "y = x.view(16)\n",
    "print(\"y = {}\",format(y))\n",
    "z = x.view(-1, 8)\n",
    "print(\"z = {}\".format(z))\n",
    "z = x.view(2, 8)\n",
    "print(\"z = {}\".format(z))"
   ]
  },
  {
   "cell_type": "code",
   "execution_count": 7,
   "metadata": {
    "id": "BdKLEHHBTGQc",
    "colab_type": "code",
    "colab": {
     "autoexec": {
      "startup": false,
      "wait_interval": 0.0
     },
     "output_extras": [
      {
       "item_id": 1.0
      }
     ],
     "base_uri": "https://localhost:8080/",
     "height": 293.0
    },
    "outputId": "2c00d9b6-7365-4f96-a19c-6cb9b4ccd57a",
    "executionInfo": {
     "status": "ok",
     "timestamp": 1.521433842814E12,
     "user_tz": 180.0,
     "elapsed": 2542.0,
     "user": {
      "displayName": "Roberto Andres Ibañez Aliaga",
      "photoUrl": "https://lh3.googleusercontent.com/a/default-user=s128",
      "userId": "112930615369233669975"
     }
    }
   },
   "outputs": [
    {
     "name": "stdout",
     "output_type": "stream",
     "text": [
      "x = \n",
      "-0.1002  1.7392  0.6348\n",
      "-0.3628 -0.7499  0.4106\n",
      "[torch.FloatTensor of size 2x3]\n",
      "\n",
      "y = \n",
      "-0.3185  1.1092  0.2141\n",
      " 0.1234  1.6272 -0.1193\n",
      "[torch.FloatTensor of size 2x3]\n",
      "\n",
      "z = \n",
      "-0.4187  2.8484  0.8489\n",
      "-0.2394  0.8773  0.2913\n",
      "[torch.cuda.FloatTensor of size 2x3 (GPU 0)]\n",
      "\n"
     ]
    }
   ],
   "source": [
    "## Manejar tensores en GPU \n",
    "\n",
    "x = torch.randn(2,3)\n",
    "y = torch.randn(2,3)\n",
    "\n",
    "print(\"x = {}\".format(x))\n",
    "print(\"y = {}\".format(y))\n",
    "\n",
    "if torch.cuda.is_available():\n",
    "    x = x.cuda()\n",
    "    y = y.cuda()\n",
    "    z = x + y\n",
    "    print(\"z = {}\".format(z))"
   ]
  },
  {
   "cell_type": "code",
   "execution_count": 0,
   "metadata": {
    "id": "qS8dTxq1WueE",
    "colab_type": "code",
    "colab": {
     "autoexec": {
      "startup": false,
      "wait_interval": 0.0
     }
    }
   },
   "outputs": [],
   "source": [
    ""
   ]
  },
  {
   "cell_type": "markdown",
   "metadata": {
    "id": "Q0SnieYnWvEA",
    "colab_type": "text"
   },
   "source": [
    "## Algunas funciones de activación\n",
    "\n",
    "\n",
    "### Leaky ReLU\n",
    "\n",
    "La función de activación Leaky rectified linear unit (Leaky ReLU) se define como :\n",
    "\n",
    "$$ f(x) =\n",
    "\\left\\{\n",
    "\t\\begin{array}{ll}\n",
    "\t\tx  & \\mbox{if } x \\geq 0 \\\\\n",
    "\t\t\\alpha \\cdot x & \\mbox{if } x < 0\n",
    "\t\\end{array}\n",
    "\\right. \n",
    "$$\n",
    "\n",
    "Por lo tanto su derivada será:\n",
    "$$ \\frac{d\\,f}{dx}(x) =\n",
    "\\left\\{\n",
    "\t\\begin{array}{ll}\n",
    "\t\t1  & \\mbox{if } x \\geq 0 \\\\\n",
    "\t\t\\alpha & \\mbox{if } x < 0\n",
    "\t\\end{array}\n",
    "\\right. \n",
    "$$\n"
   ]
  },
  {
   "cell_type": "code",
   "execution_count": 0,
   "metadata": {
    "id": "AuZ-P7RbUCf8",
    "colab_type": "code",
    "colab": {
     "autoexec": {
      "startup": false,
      "wait_interval": 0.0
     }
    }
   },
   "outputs": [],
   "source": [
    "def leaky_RELU(x, alpha, gradient = False):\n",
    "  y = torch.ones_like(x)\n",
    "  ### YOUR CODE ###\n",
    "  \n",
    "  if gradient:\n",
    "    ## Implementación del gradiente\n",
    "    y[x < 0]  = alpha\n",
    "    ## fin implementacion del gradiente\n",
    "    return y\n",
    "  \n",
    "  ## Implementación de la función de activación\n",
    "  y = x\n",
    "  y[y < 0] = alpha * y[y < 0]\n",
    "  \n",
    "  #####\n",
    "  return y"
   ]
  },
  {
   "cell_type": "code",
   "execution_count": 9,
   "metadata": {
    "id": "yFwQtcPtU60k",
    "colab_type": "code",
    "colab": {
     "autoexec": {
      "startup": false,
      "wait_interval": 0.0
     },
     "output_extras": [
      {
       "item_id": 1.0
      }
     ],
     "base_uri": "https://localhost:8080/",
     "height": 164.0
    },
    "outputId": "a9953ccb-d27e-4732-e90a-b8698afca73f",
    "executionInfo": {
     "status": "ok",
     "timestamp": 1.521433845208E12,
     "user_tz": 180.0,
     "elapsed": 684.0,
     "user": {
      "displayName": "Roberto Andres Ibañez Aliaga",
      "photoUrl": "https://lh3.googleusercontent.com/a/default-user=s128",
      "userId": "112930615369233669975"
     }
    }
   },
   "outputs": [
    {
     "name": "stdout",
     "output_type": "stream",
     "text": [
      "x = \n",
      " 1.0270  0.6056 -0.7636 -0.3127 -0.2151\n",
      "[torch.FloatTensor of size 1x5]\n",
      "\n",
      "leaky_relu(x, 0.1) = \n",
      " 1.0270  0.6056 -0.0764 -0.0313 -0.0215\n",
      "[torch.FloatTensor of size 1x5]\n",
      "\n"
     ]
    }
   ],
   "source": [
    "x = torch.randn(1,5)\n",
    "print(\"x = {}\".format(x))\n",
    "leaky_relu = leaky_RELU(x, 0.1, gradient = False)\n",
    "print(\"leaky_relu(x, 0.1) = {}\".format(leaky_relu))"
   ]
  },
  {
   "cell_type": "markdown",
   "metadata": {
    "id": "3QFUBuTwdBRG",
    "colab_type": "text"
   },
   "source": [
    "### Sigmoide\n",
    "\n",
    "\n",
    "La función de activación sigmoide se define como:\n",
    "\n",
    "$$f(x) = \\sigma(x) = \\frac{1}{1 + e^{-x}} $$\n",
    "\n",
    "Por lo tanto, su derivada es:\n",
    "\n",
    "$$\\frac{d\\,\\sigma}{dx}(x) = \\frac{e^{-x}}{(1 + e^{-x})^2}  = \\left(\\frac{1}{1 + e^{-x}}\\right)\\cdot \\left(\\frac{e^{-x}}{1 + e^{-x}}\\right) = \\sigma(x)\\cdot (1-\\sigma(x))$$"
   ]
  },
  {
   "cell_type": "code",
   "execution_count": 0,
   "metadata": {
    "id": "vxnfoJBsWJKa",
    "colab_type": "code",
    "colab": {
     "autoexec": {
      "startup": false,
      "wait_interval": 0.0
     }
    }
   },
   "outputs": [],
   "source": [
    "def sigmoid(x, gradient = False):\n",
    "  y = torch.ones_like(x)\n",
    "  ### YOUR CODE\n",
    "  if gradient:\n",
    "    ## Implementación del gradiente\n",
    "    y = torch.reciprocal(1 + torch.exp(-x))\n",
    "    y = torch.mul(y, 1 - y)\n",
    "    ## fin implementacion del gradiente\n",
    "    return y\n",
    "  \n",
    "  ## Implementación de la función de activación\n",
    "  y = torch.reciprocal(1 + torch.exp(-x))\n",
    "  \n",
    "  #####\n",
    "  return y"
   ]
  },
  {
   "cell_type": "code",
   "execution_count": 11,
   "metadata": {
    "id": "v7X6UN0OWf6e",
    "colab_type": "code",
    "colab": {
     "autoexec": {
      "startup": false,
      "wait_interval": 0.0
     },
     "output_extras": [
      {
       "item_id": 1.0
      }
     ],
     "base_uri": "https://localhost:8080/",
     "height": 164.0
    },
    "outputId": "d3353b43-c2a9-47c1-b98f-f9441005139c",
    "executionInfo": {
     "status": "ok",
     "timestamp": 1.521433846868E12,
     "user_tz": 180.0,
     "elapsed": 642.0,
     "user": {
      "displayName": "Roberto Andres Ibañez Aliaga",
      "photoUrl": "https://lh3.googleusercontent.com/a/default-user=s128",
      "userId": "112930615369233669975"
     }
    }
   },
   "outputs": [
    {
     "name": "stdout",
     "output_type": "stream",
     "text": [
      "x = \n",
      "-0.4804 -0.1292  0.9810 -0.4116  0.2853\n",
      "[torch.FloatTensor of size 1x5]\n",
      "\n",
      "sigmoid(x) = \n",
      " 0.3822  0.4677  0.7273  0.3985  0.5708\n",
      "[torch.FloatTensor of size 1x5]\n",
      "\n"
     ]
    }
   ],
   "source": [
    "x = torch.randn(1,5)\n",
    "print(\"x = {}\".format(x))\n",
    "sigmoide = sigmoid(x, gradient = False)\n",
    "print(\"sigmoid(x) = {}\".format(sigmoide))"
   ]
  },
  {
   "cell_type": "markdown",
   "metadata": {
    "id": "PwFnxxuPaCeY",
    "colab_type": "text"
   },
   "source": [
    "### Checkeo de los gradientes"
   ]
  },
  {
   "cell_type": "code",
   "execution_count": 0,
   "metadata": {
    "id": "4A_Wg3woZxry",
    "colab_type": "code",
    "colab": {
     "autoexec": {
      "startup": false,
      "wait_interval": 0.0
     }
    }
   },
   "outputs": [],
   "source": [
    "def numericalGradient(costFunc, matrix_x, epsilon = 1e-4):\n",
    "  \n",
    "  dim = matrix_x.size()\n",
    "  \n",
    "  numgrad = torch.zeros((dim[0],dim[1]))\n",
    "  perturb = torch.zeros((dim[0],dim[1]))\n",
    "  \n",
    "  for i in range(dim[0]):\n",
    "    for j in range(dim[1]):\n",
    "      perturb[i][j] = epsilon\n",
    "      loss1 = costFunc(matrix_x - perturb)\n",
    "      loss2 = costFunc(matrix_x + perturb)\n",
    "      numgrad[i][j] = (loss2 - loss1)[i][j] / (2*epsilon)\n",
    "      perturb[i][j] = 0\n",
    "    \n",
    "  return numgrad"
   ]
  },
  {
   "cell_type": "code",
   "execution_count": 13,
   "metadata": {
    "id": "FJVMvMgyaHls",
    "colab_type": "code",
    "colab": {
     "autoexec": {
      "startup": false,
      "wait_interval": 0.0
     },
     "output_extras": [
      {
       "item_id": 1.0
      }
     ],
     "base_uri": "https://localhost:8080/",
     "height": 237.0
    },
    "outputId": "b007b36f-bee3-41c6-d751-973e446b15a1",
    "executionInfo": {
     "status": "ok",
     "timestamp": 1.521433848288E12,
     "user_tz": 180.0,
     "elapsed": 632.0,
     "user": {
      "displayName": "Roberto Andres Ibañez Aliaga",
      "photoUrl": "https://lh3.googleusercontent.com/a/default-user=s128",
      "userId": "112930615369233669975"
     }
    }
   },
   "outputs": [
    {
     "name": "stdout",
     "output_type": "stream",
     "text": [
      "tensor \n",
      "-0.5501  0.9171  0.4935  0.4099 -0.8548\n",
      "[torch.FloatTensor of size 1x5]\n",
      "\n",
      "Gradiente leaky Relu analítico \n",
      " 0.1000  1.0000  1.0000  1.0000  0.1000\n",
      "[torch.FloatTensor of size 1x5]\n",
      "\n",
      "Gradiente leaky Relu numérico \n",
      " 0.1000  1.0002  0.9999  0.9999  0.1000\n",
      "[torch.FloatTensor of size 1x5]\n",
      "\n"
     ]
    }
   ],
   "source": [
    "## Checkeamos el gradiente de Leaky ReLU\n",
    "\n",
    "x = torch.randn(1,5)\n",
    "print(\"tensor\", x)\n",
    "grad_lrelu =  leaky_RELU(x, 0.1, gradient = True)\n",
    "\n",
    "print(\"Gradiente leaky Relu analítico\", grad_lrelu)\n",
    "\n",
    "def cost_func(x):\n",
    "  return leaky_RELU(x, alpha = 0.1, gradient = False)\n",
    "\n",
    "\n",
    "grad_lrelu_num = numericalGradient(cost_func, x, epsilon = 1e-4)\n",
    "print(\"Gradiente leaky Relu numérico\", grad_lrelu_num)"
   ]
  },
  {
   "cell_type": "code",
   "execution_count": 14,
   "metadata": {
    "id": "2MeFFgUYebOk",
    "colab_type": "code",
    "colab": {
     "autoexec": {
      "startup": false,
      "wait_interval": 0.0
     },
     "output_extras": [
      {
       "item_id": 1.0
      }
     ],
     "base_uri": "https://localhost:8080/",
     "height": 237.0
    },
    "outputId": "467f5ae4-16fc-4fbc-e8ab-bc7ac9115fb5",
    "executionInfo": {
     "status": "ok",
     "timestamp": 1.521433848996E12,
     "user_tz": 180.0,
     "elapsed": 610.0,
     "user": {
      "displayName": "Roberto Andres Ibañez Aliaga",
      "photoUrl": "https://lh3.googleusercontent.com/a/default-user=s128",
      "userId": "112930615369233669975"
     }
    }
   },
   "outputs": [
    {
     "name": "stdout",
     "output_type": "stream",
     "text": [
      "tensor \n",
      "-1.5052  0.8440  0.3435  0.5427  0.1490\n",
      "[torch.FloatTensor of size 1x5]\n",
      "\n",
      "Gradiente Sigmoide analítico \n",
      " 0.1487  0.2103  0.2428  0.2325  0.2486\n",
      "[torch.FloatTensor of size 1x5]\n",
      "\n",
      "Gradiente Sigmoide numérico \n",
      " 0.1487  0.2104  0.2429  0.2325  0.2488\n",
      "[torch.FloatTensor of size 1x5]\n",
      "\n"
     ]
    }
   ],
   "source": [
    "## Checkeamos el gradiente de Sigmoid\n",
    "\n",
    "x = torch.randn(1,5)\n",
    "print(\"tensor\", x)\n",
    "grad_sig =  sigmoid(x, gradient = True)\n",
    "\n",
    "print(\"Gradiente Sigmoide analítico\", grad_sig)\n",
    "\n",
    "def cost_func(x):\n",
    "  return sigmoid(x, gradient = False)\n",
    "\n",
    "\n",
    "grad_sig_num = numericalGradient(cost_func, x, epsilon = 1e-4)\n",
    "print(\"Gradiente Sigmoide numérico\", grad_sig_num)"
   ]
  },
  {
   "cell_type": "code",
   "execution_count": 0,
   "metadata": {
    "id": "u2boU0Ohg5HM",
    "colab_type": "code",
    "colab": {
     "autoexec": {
      "startup": false,
      "wait_interval": 0.0
     }
    }
   },
   "outputs": [],
   "source": [
    ""
   ]
  }
 ],
 "metadata": {
  "colab": {
   "name": "Básico en PyTorch.ipynb",
   "version": "0.3.2",
   "views": {},
   "default_view": {},
   "provenance": []
  },
  "kernelspec": {
   "name": "python3",
   "display_name": "Python 3"
  },
  "accelerator": "GPU"
 },
 "nbformat": 4,
 "nbformat_minor": 0
}
