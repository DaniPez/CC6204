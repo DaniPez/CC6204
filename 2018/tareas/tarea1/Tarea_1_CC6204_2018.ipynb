{
  "nbformat": 4,
  "nbformat_minor": 0,
  "metadata": {
    "colab": {
      "name": "Tarea_1_CC6204_2018",
      "version": "0.3.2",
      "views": {},
      "default_view": {},
      "provenance": [
        {
          "file_id": "1-7Alg0DzdesaVPVuDghwoXbN0pa8ds1t",
          "timestamp": 1521245040538
        }
      ]
    }
  },
  "cells": [
    {
      "metadata": {
        "id": "4zhjpqvcdo5o",
        "colab_type": "text"
      },
      "cell_type": "markdown",
      "source": [
        "# Tarea 1 <br/> CC6204 Deep Learning, Universidad de Chile \n",
        "\n",
        "En esta tarea **progamarás a mano** varios aspectos de redes neuronales Feed Forward. La idea es familiarizarse con tensores, funciones de activación, derivadas, el algoritmo de backpropagation, algoritmos de optimización, regularización, entrenamiento, y búsqueda de hiperparámetros. No se espera obtener excelentes resultados en problemas de clasificación reales, si no más bien aplicar los conceptos teóricos aprendidos en clases y así entenderlos de manera más precisa. La tarea tiene varias partes (algunas opcionales) y es **considerablemente larga** así que se recomienda empezar lo antes posible desarrollándola. \n",
        "\n",
        "Tal vez sea razonable/provechoso hacer una primera versión de la tarea desde la Parte 1 hasta la Parte 5, sin considerar todos los aspectos y detalles. Por ejemplo, podrías programar una red neuronal solo con activaciones sigmoid y tangente hiperbólica (que veremos o ya las vimos en clases), y una cantidad fija de capas (incluso una sola capa escondida) para darse cuenta de que se entienden los conceptos básicos y que la red efectivamente aprende algo. Luego de esto volver y comenzar toda la tarea otra vez, ahora desarollando todos los detalles.\n",
        "\n",
        "Se sugiere seguir las siguientes fechas para no atrasarse: \n",
        "*   Partes 1, 2: viernes 23 de marzo ([Hoja de respuestas](https://colab.research.google.com/drive/1V3vHkKRh_2XIMxDtH-LoQzmR3DW0X421))\n",
        "*   Partes 3, 4, 5, 8 (inicio): viernes 6 de abril\n",
        "*   Partes 6, 7, 8 (completa): viernes 20 de abril\n",
        "\n",
        "\n",
        "### IMPORTANTE 1: A menos que se exprese lo contrario, sólo podrás utilizar las clases y funciones en el módulo [`torch`](http://pytorch.org/docs/0.3.1/torch.html).\n",
        "\n",
        "### IMPORTANTE 2: Hay algunas partes de la tarea que aun están en construcción (están indicadas).\n",
        "\n",
        "(por Jorge Pérez, https://github.com/jorgeperezrojas, [@perez](https://twitter.com/perez))\n"
      ]
    },
    {
      "metadata": {
        "id": "I_kVL7undMBx",
        "colab_type": "code",
        "colab": {
          "autoexec": {
            "startup": false,
            "wait_interval": 0
          }
        }
      },
      "cell_type": "code",
      "source": [
        "# Este notebook está pensado para correr en CoLaboratory. \n",
        "# Comenzamos instalando las librerías necesarias.\n",
        "# Si lo estás ejecutando localmente posiblemente no sea necesario\n",
        "# reinstalar todo.\n",
        "\n",
        "from os import path\n",
        "from wheel.pep425tags import get_abbr_impl, get_impl_ver, get_abi_tag\n",
        "platform = '{}{}-{}'.format(get_abbr_impl(), get_impl_ver(), get_abi_tag())\n",
        "\n",
        "accelerator = 'cu80' if path.exists('/opt/bin/nvidia-smi') else 'cpu'\n",
        "\n",
        "!pip install -q http://download.pytorch.org/whl/{accelerator}/torch-0.3.0.post4-{platform}-linux_x86_64.whl torchvision\n",
        "!pip install -q ipdb\n",
        "\n",
        "import torch"
      ],
      "execution_count": 0,
      "outputs": []
    },
    {
      "metadata": {
        "id": "2xbEy3Php0a2",
        "colab_type": "text"
      },
      "cell_type": "markdown",
      "source": [
        "# Parte 1: Funciones de activación, derivadas y función de salida\n",
        "\n",
        "En esta parte programarás varias funciones que serán de utilidad cuando construyas tu red neuronal. Además tendrás que derivar a mano. Una cosa **muy importante en esta y las siguientes partes**: evita los loops (`for`, `while`, etc.) a toda costa! todo lo que se pueda hacer con operaciones de tensores sin iterar será muy eficiente (en CPU y GPU)."
      ]
    },
    {
      "metadata": {
        "id": "p3nKwdzpqF2y",
        "colab_type": "text"
      },
      "cell_type": "markdown",
      "source": [
        "## 1a) Funciones de activación\n",
        "\n",
        "En esta parte debes programar las siguientes funciones de activación:\n",
        "\n",
        "*   `relu`, que para cada valor $x$ en un tensor computa el máximo entre $0$ y $x$,  \n",
        "*   `swish`, propuesta en el artículo [Searching for Activation Functions](https://arxiv.org/abs/1710.05941), y\n",
        "*   `celu`, propuesta en el artículo [Continuously Differentiable Exponential Linear Units](https://arxiv.org/abs/1704.07483).\n",
        "\n",
        "En cada caso tu función debe recibir un tensor y entregar un tensor con la función aplicada a todos sus elementos. **Importante**:  tanto `swish` como `celu` tienen un parámetro que puede modificarse durante el entrenamiento de una red que utilice estas funciones de activación por lo que para estas funciones además del tensor debes recibir el parámetro correspondiente. "
      ]
    },
    {
      "metadata": {
        "id": "_EhdkSIOFvR9",
        "colab_type": "text"
      },
      "cell_type": "markdown",
      "source": [
        "Como ejemplo, estas son implementaciones de las funciones `sig` y `tanh`."
      ]
    },
    {
      "metadata": {
        "id": "p80-9lwaUAix",
        "colab_type": "code",
        "colab": {
          "autoexec": {
            "startup": false,
            "wait_interval": 0
          }
        }
      },
      "cell_type": "code",
      "source": [
        "def sig(T):\n",
        "  return torch.reciprocal(1 + torch.exp(-1 * T))\n",
        "\n",
        "def tanh(T):\n",
        "  E = torch.exp(T)\n",
        "  e = torch.exp(-1 * T)\n",
        "  return (E - e) * torch.reciprocal(E + e)"
      ],
      "execution_count": 0,
      "outputs": []
    },
    {
      "metadata": {
        "id": "4VtQWFePbtrF",
        "colab_type": "code",
        "colab": {
          "autoexec": {
            "startup": false,
            "wait_interval": 0
          }
        }
      },
      "cell_type": "code",
      "source": [
        "# Tu código acá\n",
        "\n",
        "def relu(T):\n",
        "  pass\n",
        "\n",
        "def swish(T, ):\n",
        "  pass\n",
        "\n",
        "def celu(T, ):\n",
        "  pass"
      ],
      "execution_count": 0,
      "outputs": []
    },
    {
      "metadata": {
        "id": "Ph78UHMwdwp2",
        "colab_type": "text"
      },
      "cell_type": "markdown",
      "source": [
        "## 1b) Derivando las funciones de activación\n",
        "\n",
        "Calcula a mano las derivadas de las funciones `relu`, `swish` y `celu`. Recuerda que `swish` y `celu` tienen ambas parámetros adicionales así que debes calcular las derivadas (parciales) con respecto a ellos también. Intenta expresar las derivadas en términos de aplicaciones de la misma función (o sub expresiones de esta). Por ejemplo para la función `sigmoid` tenemos que: \n",
        "<br><br>\n",
        "\n",
        "\\begin{equation}\n",
        "\\frac{\\partial\\ \\text{sigmoid}(x)}{\\partial x}\\; =\\; \\text{sigmoid}(x)\\big(1 - \\text{sigmoid}(x)\\big)\n",
        "\\end{equation}\n",
        "<br><br>\n",
        "\n",
        "Las deducciones correspondientes puedes entregarlas en otro archivo, pero debes escribir tus respuestas finales acá."
      ]
    },
    {
      "metadata": {
        "id": "SawUSepjenJt",
        "colab_type": "text"
      },
      "cell_type": "markdown",
      "source": [
        "\n",
        "\\begin{equation}\n",
        "\\frac{\\partial\\ \\text{relu}(x)}{\\partial x} = \\ldots \\\\\n",
        "\\end{equation}\n",
        "<br><br>\n",
        "\n",
        "\\begin{eqnarray}\n",
        "\\frac{\\partial\\ \\text{swish}(x, \\ldots)}{\\partial x} & = & \\ldots \\\\\n",
        "\\frac{\\partial\\ \\text{swish}(x, \\ldots)}{\\partial \\ldots} & = & \\ldots \\\\\n",
        "\\end{eqnarray}\n",
        "<br><br>\n",
        "\n",
        "\\begin{eqnarray}\n",
        "\\frac{\\partial\\ \\text{celu}(x, \\ldots)}{\\partial x} & = & \\ldots \\\\\n",
        "\\frac{\\partial\\ \\text{celu}(x, \\ldots)}{\\partial \\ldots} & = & \\ldots \\\\\n",
        "\\end{eqnarray}"
      ]
    },
    {
      "metadata": {
        "id": "adagNIVPp0fF",
        "colab_type": "text"
      },
      "cell_type": "markdown",
      "source": [
        "## 1c) Softmax\n",
        "\n",
        "En esta parte debes programar la función `softmax`. Esta es una función tal que para una secuencia de valores $(x_1,\\ldots,x_n)$  el resultado de $\\text{softmax}(x_1,\\ldots,x_n)$ es otra secuencia $(s_1,\\ldots,s_n)$ tal que\n",
        "\\begin{equation}\n",
        "s_i = \\frac{e^{x_i}}{\\sum_{j=1}^{n}e^{x_j}}\n",
        "\\end{equation}\n",
        "Para esto primero demuestra que si a cada elemento de $(x_1,\\ldots,x_n)$ se le resta el mismo valor, entonces el resultado de `softmax` no varía. Es decir que $\\text{softmax}(x_1-M,\\ldots,x_n-M)=\\text{softmax}(x_1,\\ldots,x_n)$. Usa este hecho para programar una versión de `softmax` que primero le resta a todos los elementos el máximo valor de la secuencia. Esta nueva versión debiera ser numéricamente más estable.\n",
        "\n",
        "Tu función debiera recibir un tensor y el resultado de `softmax` debiera calcularse sobre alguna dimensión del tensor (por defecto la dimensión `0`) de manera tal que `softmax` es aplicado para la secuencia de valores obtenidos fijando un índice para la dimensión elegida. Por ejemplo, si `softmax` recibe un tensor de dos dimensiones $T_{ij}$ y se elige la dimensión $0$, entonces se debe computar $\\text{softmax}(T_{i1},\\ldots,T_{in})$ para cada $i$.\n",
        "\n",
        "Nota que el resultado de `softmax` es un tensor de las mismas dimensiones de la entrada."
      ]
    },
    {
      "metadata": {
        "id": "kwEot28n3tD2",
        "colab_type": "text"
      },
      "cell_type": "markdown",
      "source": [
        "Puedes entregar la demostración en otro archivo o escribir tu respuesta acá..."
      ]
    },
    {
      "metadata": {
        "id": "5hVvsHp-dGk4",
        "colab_type": "code",
        "colab": {
          "autoexec": {
            "startup": false,
            "wait_interval": 0
          }
        },
        "cellView": "code"
      },
      "cell_type": "code",
      "source": [
        "# Tu código acá\n",
        "\n",
        "def softmax(T, dim=0, estable=True):\n",
        "  pass"
      ],
      "execution_count": 0,
      "outputs": []
    },
    {
      "metadata": {
        "id": "2m3i_1ijPLr_",
        "colab_type": "text"
      },
      "cell_type": "markdown",
      "source": [
        "# Parte 2: Red neuronal y pasada hacia adelante (forward)\n",
        "\n",
        "En esta parte empezaremos a programar nuestra red neuronal, en particular la pasada hacia adelante para una red que resolverá problemas de clasificación con varias clases. Supondremos que cada capa se verá de la forma\n",
        "\\begin{equation}\n",
        "h^{(\\ell)} = f^{(\\ell)}(h^{(\\ell-1)} W^{(\\ell)}+b^{(\\ell)})\n",
        "\\end{equation}\n",
        "y que la predicción final estará dada por\n",
        "\\begin{equation}\n",
        "\\text{softmax}(h^{(L)}U+c).\n",
        "\\end{equation}"
      ]
    },
    {
      "metadata": {
        "id": "E_1cvyD9PiMY",
        "colab_type": "text"
      },
      "cell_type": "markdown",
      "source": [
        "## 2a) Clase para red neuronal\n",
        "\n",
        "Programa una clase `FFNN` que en su inicializador reciba los siguientes parámetros:\n",
        "\n",
        "*   Cantidad de neuronas de la capa de entrada `F`\n",
        "*   Lista de cantidades de neuronas en cada capa escondida `l_h`\n",
        "*   Lista de funciones de activación `l_a`\n",
        "*   Cantidad de neuronas de la capa de salida `C` (`C` $\\geq 2$)\n",
        "\n",
        "El inicializador debería crear todos los parámetros para la red como tensores (`torch.tensor`) de las dimensiones correspondientes, y almacenar lo necesario para poder computar la pasada hacia adelante (siguiente parte). Inicializa los pesos con números aleatorios pequeños y los bias como $0$. No olvides almacenar los parámetros como parte de la clase para que otros métodos de la clase tengan acceso a ellos también. En particular, deja todos los parámetros en una lista `parametros` que luego puedas recorrer. \n",
        "\n",
        "Una llamada de ejemplo para crear un objeto de tu clase es:\n",
        "```\n",
        "red_neuronal = FFNN(300,[50,30],[relu,sig],10)\n",
        "``` \n",
        "lo que debiera crear todos los parámetros para una red con 300 neuronas en la capa de entrada, luego una capa escondida de 50 neuronas con activación relu, luego una capa con 30 neuronas y activación sigmoid y finalmente una capa de 10 neuronas de salida. <br><br>\n",
        "\n",
        "Puedes agregarle todos los parámetros opcionales que estimes conveniente. Uno recomendable, es alguna forma de pasarle los valores iniciales de los parámetros, lo que servirá por ejemplo para cargar redes pre-entrenadas, inicializar los valores de manera más efectiva, o para hacer debugging del código. También puedes pedir los valores iniciales de los parámetros adicionales de las funciones `celu` y `swish`."
      ]
    },
    {
      "metadata": {
        "id": "eW3fhiQPTMLT",
        "colab_type": "code",
        "colab": {
          "autoexec": {
            "startup": false,
            "wait_interval": 0
          }
        }
      },
      "cell_type": "code",
      "source": [
        "# Tu código debiera comenzar así (ojo que acá solo empieza el código, \n",
        "# lo iremos completando más adelante).\n",
        "\n",
        "class FFNN():\n",
        "  def __init__(self, F, l_h, l_a, C):\n",
        "    pass\n",
        "  "
      ],
      "execution_count": 0,
      "outputs": []
    },
    {
      "metadata": {
        "id": "xbDabd2LMQCx",
        "colab_type": "text"
      },
      "cell_type": "markdown",
      "source": [
        "## 2b) Usando la GPU\n",
        "\n",
        "Agrega dos métodos a tu clase, el método `gpu()` y el método `cpu()`. El primer método debiera pasar todos los parámetros de la red a la GPU (usando, por ejemplo, el método `.cuda()` de la clase la clase `torch.Tensor`). El seguno método debiera pasar todos los parámetros de la red a la CPU (usando, por ejemplo, el método `.cpu()` de la clase la clase `torch.Tensor`). Comprueba que los parámetros efectivamente se pasan a la GPU mirando el espacio utlizado en ella."
      ]
    },
    {
      "metadata": {
        "id": "fTgxEjzjMPj6",
        "colab_type": "code",
        "colab": {
          "autoexec": {
            "startup": false,
            "wait_interval": 0
          }
        }
      },
      "cell_type": "code",
      "source": [
        "# Tu código debiera continuar así \n",
        "\n",
        "class FFNN():\n",
        "  def __init__(self, F, l_h, l_a, C):\n",
        "    pass\n",
        "  \n",
        "  def gpu(self):\n",
        "    # pasa todos los parámetros a la GPU\n",
        "    pass\n",
        "  \n",
        "  def cpu(self):\n",
        "    # pasa todos los parámetros a la CPU\n",
        "    pass"
      ],
      "execution_count": 0,
      "outputs": []
    },
    {
      "metadata": {
        "id": "kUk5lUM8TtBL",
        "colab_type": "text"
      },
      "cell_type": "markdown",
      "source": [
        "## 2c) Pasada hacia adelante\n",
        "\n",
        "Programa la pasada hacia adelante de tu red neuronal en el método `forward` de la clase `FFNN`. La función debiera recibir un tensor de dimensiones `(B,F)` como entrada donde `B` es el tamaño del mini paquete de ejemplos pasados a tu red (y `F` la cantidad de *features* de los ejemplos). Para computar la pasada hacia adelante, tu red debiera usar los parámetros creados en el inicializador y las funciones de activación entregadas también en el inicializador. Al finalizar tu red debiera generar predicciones en la forma de probabilidades, aplicando la función `softmax`. El resultado del último `softmax` debiera ser un tensor de dimensiones `(B,C)` que es lo que la función debe retornar (donde `C` represent a la cantidad de clases a clasificar).\n",
        "\n",
        "Esta función puede requerir *cachear* algunas computaciones intermedias para usarlas más adelante, por lo que probablemente tendrás que volver y modificar esta función después de que desarrolles las siguientes partes de la tarea."
      ]
    },
    {
      "metadata": {
        "id": "QseFyNzlUuAx",
        "colab_type": "code",
        "colab": {
          "autoexec": {
            "startup": false,
            "wait_interval": 0
          }
        }
      },
      "cell_type": "code",
      "source": [
        "# Tu código debiera continuar así \n",
        "\n",
        "class FFNN():\n",
        "  def __init__(self, F, l_h, l_a, C):\n",
        "    pass\n",
        "  \n",
        "  def gpu(self):\n",
        "    pass\n",
        "  \n",
        "  def cpu(self):\n",
        "    pass\n",
        "  \n",
        "  def forward(self, x):\n",
        "    # Usar parámetros y funciones de activación\n",
        "    # El valor de retorno debiera ser y = softmax(capa_de_salida)\n",
        "    pass"
      ],
      "execution_count": 0,
      "outputs": []
    },
    {
      "metadata": {
        "id": "871AjprcvVPC",
        "colab_type": "text"
      },
      "cell_type": "markdown",
      "source": [
        "## 2d) Probando tu red con un modelo pre-entrenado\n",
        "\n",
        "En esta parte usarás la pasada hacia adelante de tu red con parámetros de una red pre entrenada. La red fue entrenada para el problema \"Varita Mágica\" de la Olimpiada Escolar de Informática 2017 que se trata de predecir la clase de dibujos hechos en mapas de bits de 64 por 64, dentro de 10 posibilidades. Puedes ver una descripción del problema [acá](https://github.com/jorgeperezrojas/cc6204-DeepLearning-DCCUChile/tree/master/2018/tareas/tarea1/recursos/varita_magica). En ese mismo enlace encontrarás datos y un modelo de ejemplo. \n",
        "\n",
        "En la carpeta `modelos/ejemplo` encontrarás varios archivos de texto que representan los parámetros de una red con 2 capas escondidas ambas de 15 neuronas con activación $\\text{sigmoid}$. La capa de entrada por su parte es de 4096 neuronas y la de salida de 10 neuronas. La predicción utiliza la función $\\text{softmax}$. Los archivos están nombrados como `W1`, `b1`, `W2`, `b2`, `U` y `c` que representan, respectivamente, a $W^{(1)}$, $b^{(1)}$, $W^{(2)}$, $b^{(2)}$, $U$ y $c$ en la descripción de más arriba.\n",
        "\n",
        "Crea una red con las características anteriores usando tu clase FFNN y pruébala con los datos en las carpetas `data/test_set` y `data/train_set`. Para cargar los parámetros puedes usar la funcion `numpy.loadtxt`. Calcula el porcentaje de certeza de la red sobre el conjunto de todos los datos (debería ser cercana a 90%). Procura usar tensores para computar la predicción (no iteraciones!) y prueba hacer los cálculos en la GPU (para lo cual deberás pasar el tensor de inputs a la GPU también antes de la llamada a `forward`)."
      ]
    },
    {
      "metadata": {
        "id": "WdX6bv6NvTYR",
        "colab_type": "code",
        "colab": {
          "autoexec": {
            "startup": false,
            "wait_interval": 0
          }
        }
      },
      "cell_type": "code",
      "source": [
        "# Tu código acá"
      ],
      "execution_count": 0,
      "outputs": []
    },
    {
      "metadata": {
        "id": "nTWFl38WD0s8",
        "colab_type": "text"
      },
      "cell_type": "markdown",
      "source": [
        "Usa dos ejemplos que la red haya clasificado incorrectamente y visualízalos usando [matplotlib](https://matplotlib.org/users/index.html)."
      ]
    },
    {
      "metadata": {
        "id": "_rYqUumoD0NL",
        "colab_type": "code",
        "colab": {
          "autoexec": {
            "startup": false,
            "wait_interval": 0
          }
        }
      },
      "cell_type": "code",
      "source": [
        "# Tu código acá"
      ],
      "execution_count": 0,
      "outputs": []
    },
    {
      "metadata": {
        "id": "D9SpFNK7FkJ9",
        "colab_type": "text"
      },
      "cell_type": "markdown",
      "source": [
        "# Parte 3: Más derivadas y back propagation\n",
        "\n",
        "En esta parte comenzaremos a usar el algoritmo de back propagation para poder actualizar los parámetros de nuestra red neuronal. <br> \n",
        "\n",
        "Para entrenar nuestra red usaremos la función de pérdida de entropía cruzada (ver la parte 3a). Dado un conjunto (mini batch) de ejemplos $\\{(x_1,y_1),\\ldots,(x_B,y_B)\\}$, llamemos $x$ al tensor que contiene a todos los $x_i$'s (*apilados* en su dimensión $0$), y similarmente llamemos $y$ al tensor que contiene a todos los $y_i$'s. La función de pérdida de la red se puede entonces escribir como\n",
        "\\begin{equation}\n",
        "\\cal L=\\it{CELoss}(\\hat{y},{y})\n",
        "\\end{equation}\n",
        "donde $\\hat{y}$ es el tensor que se obtiene en la pasada hacia adelante de nuestra red desde $x$ (es decir $\\hat y=\\text{forward}(x)$), y $\\it{CELoss}(\\hat{y},{y})$ es la función de entropía cruzada aplicada a ambos. En esta parte computaremos las derivadas parciales\n",
        "\\begin{equation}\n",
        "\\frac{\\partial \\cal L}{\\partial p}\n",
        "\\end{equation}\n",
        "para cada parámetro $p$ de nuestra red. <br><br>"
      ]
    },
    {
      "metadata": {
        "id": "1BhUhivg37d0",
        "colab_type": "text"
      },
      "cell_type": "markdown",
      "source": [
        "## 3a) Entropía Cruzada\n",
        "\n",
        "Comenzaremos haciendo una función para computar la pérdida de nuestra red. Recuerda que para dos distribuciones de probabilidad discreta $p(x)$ y $q(x)$ la entropía cruzada (cross entropy) entre $p$ y $q$ está dada por\n",
        "\\begin{equation}\n",
        "\\it{CE}(p,q)=- \\sum_{x}p(x)\\log q(x)\n",
        "\\end{equation}\n",
        "donde $x$ varía sobre todos los posibles valores sobre los cuales la distribución está definida.\n",
        "\n",
        "En esta parte debes programar la función `cross_ent_loss` que recibe tensores $Q_{ij}$ y $P_{ij}$ (de las mismas dimensioens) y calcula el promedio de las entropías cruzadas de las distribuciones $p_i$ y $q_i$ de la siguiente forma\n",
        "\\begin{equation}\n",
        "\\it{CELoss}(Q,P)=\\frac{1}{N}\\sum_{i}\\it{CE}(p_{i}, q_{i})\n",
        "\\end{equation}\n",
        "donde $p_i(x)=P_{ix}$, $q_i(x)=Q_{ix}$ y $N$ es el tamaño de la primera dimension de los tensores (dimension `0`). Nota que el resultado es un escalar."
      ]
    },
    {
      "metadata": {
        "id": "aGaXuo315NDK",
        "colab_type": "code",
        "colab": {
          "autoexec": {
            "startup": false,
            "wait_interval": 0
          }
        }
      },
      "cell_type": "code",
      "source": [
        "# Tu código acá\n",
        "\n",
        "def cross_ent_loss(Q,P):\n",
        "  pass"
      ],
      "execution_count": 0,
      "outputs": []
    },
    {
      "metadata": {
        "id": "SgMS0rHQO9xv",
        "colab_type": "text"
      },
      "cell_type": "markdown",
      "source": [
        "## 3b) Derivando la última capa\n",
        "\n",
        "Recuerde que la predicción de nuestra red está dada por\n",
        "\\begin{equation}\n",
        "\\hat y = \\text{softmax}(h^{(L)}U+c).\n",
        "\\end{equation}\n",
        "Nuestro objetivo es calcular la derivada de $\\cal L$ con respcto a $U$, $h^{(L)}$ y $c$. Para esto llamemos primero\n",
        "\\begin{equation}\n",
        "u^{(L)} = h^{(L)}U+c.\n",
        "\\end{equation}\n",
        "Nota que con esto, nuestra predicción es simplemente $\\hat y=\\text{softmax}(u^{(L)})$.\n",
        "<br/><br/>\n",
        "Calcula la derivada (el *gradiente*) de $\\cal L$ respecto a $u^{(L)}$, y escribe un trozo de código usando las funcionalidades de `torch` que calcule el valor y lo almacene en una variable `dL_duL`, suponiendo que cuentas con los tensores para $y$ (`y`) e $\\hat y$  (`y_pred`).\n"
      ]
    },
    {
      "metadata": {
        "id": "ngpRWD9XaZ0t",
        "colab_type": "text"
      },
      "cell_type": "markdown",
      "source": [
        "Puedes escribir tu cálculo acá o entregarlo en otro archivo<br/>\n",
        "\n",
        "\\begin{equation}\n",
        "\\frac{\\partial \\cal L}{\\partial u^{(L)}} =\n",
        "\\end{equation}"
      ]
    },
    {
      "metadata": {
        "id": "jM27Fd-5fqIQ",
        "colab_type": "code",
        "colab": {
          "autoexec": {
            "startup": false,
            "wait_interval": 0
          }
        }
      },
      "cell_type": "code",
      "source": [
        "# Para ir chequeando que al menos las dimensiones de los tensores son \n",
        "# consistentes usaremos las varibles *dummy* a continuación.\n",
        "\n",
        "B = 5; C = 10\n",
        "\n",
        "y = torch.ones(B,C)\n",
        "y_pred = torch.ones(B,C)\n"
      ],
      "execution_count": 0,
      "outputs": []
    },
    {
      "metadata": {
        "id": "jYNlUtuZb3kM",
        "colab_type": "code",
        "colab": {
          "autoexec": {
            "startup": false,
            "wait_interval": 0
          }
        }
      },
      "cell_type": "code",
      "source": [
        "# Acá tu trozo de código. \n",
        "# Primero agregamos algunas variables dummy para chequear \n",
        "# que al menos las dimensiones están correctas\n",
        "\n",
        "dimL = 40\n",
        "\n",
        "hL = torch.ones(B,dimL)\n",
        "U = torch.ones(dimL,C)\n",
        "c = torch.ones(C)\n",
        "\n",
        "uL = hL.mm(U).add(c)\n",
        "\n",
        "# Ahora tu fórmula para el gradiente\n",
        "\n",
        "dL_duL = \n",
        "\n",
        "# El gradiente debe coincidir en dimensiones con la variable\n",
        "\n",
        "assert dL_duL.size() == uL.size()"
      ],
      "execution_count": 0,
      "outputs": []
    },
    {
      "metadata": {
        "id": "Yn8l0EWVa6r_",
        "colab_type": "text"
      },
      "cell_type": "markdown",
      "source": [
        "## 3b) Derivando la última capa (continuación)\n",
        "\n",
        "Usa la derivada de $\\cal L$ con respecto a $u^{(L)}$ y la regla de la cadena para encontrar las derivadas (*gradientes*) de $\\cal L$ con respecto a $U$, $c$ y $h^{(L)}$. Recuerda tener cuidado con los índices de los tensores, chequear que las dimensiones sean las correctas y cuando sea necesario usa [la notación de Einstein](https://en.wikipedia.org/wiki/Einstein_notation) para simplificar tu vida. Escribe también un trozo de código para calcular estas derivadas y almacenarlas en `dL_dU`, `dL_dc` y `dL_dhL`."
      ]
    },
    {
      "metadata": {
        "id": "LynSkWUvdMx_",
        "colab_type": "text"
      },
      "cell_type": "markdown",
      "source": [
        "Puedes entregar esta parte en otro archivo o puedes escribir tus respuestas acá.\n",
        "<br><br>\n",
        "\n",
        "\\begin{equation}\n",
        "\\frac{\\partial\\cal L}{\\partial U} = \\ldots \\\\\n",
        "\\end{equation}\n",
        "<br><br>\n",
        "\n",
        "\\begin{equation}\n",
        "\\frac{\\partial\\cal L}{\\partial c} = \\ldots \\\\\n",
        "\\end{equation}\n",
        "<br><br>\n",
        "\n",
        "\\begin{equation}\n",
        "\\frac{\\partial\\cal L}{\\partial h^{(L)}} = \\ldots \\\\\n",
        "\\end{equation}\n",
        "\n"
      ]
    },
    {
      "metadata": {
        "id": "qmTHna9EFmtJ",
        "colab_type": "code",
        "colab": {
          "autoexec": {
            "startup": false,
            "wait_interval": 0
          }
        }
      },
      "cell_type": "code",
      "source": [
        "# Acá tu trozo de código. \n",
        "\n",
        "dL_dU = None\n",
        "\n",
        "dL_dc = None\n",
        "\n",
        "dL_dhL = None\n",
        "\n",
        "# El gradiente debe coincidir en dimensiones con las variables\n",
        "\n",
        "assert dL_dU.size() == U.size()\n",
        "assert dL_dc.size() == c.size()\n",
        "assert dL_dhL.size() == hL.size()"
      ],
      "execution_count": 0,
      "outputs": []
    },
    {
      "metadata": {
        "id": "gSOzqL9Okh6B",
        "colab_type": "text"
      },
      "cell_type": "markdown",
      "source": [
        "## 3c) Derivando desde las capas escondidas\n",
        "\n",
        "Ahora derivaremos las capas escondidas en general para todas las funciones de activación que consideramos en esta tarea. **Importante** esta parte es larga no la empieces a hacer tarde!\n",
        "\n",
        "Consideremos la capa $k$, en este caso tenemos\n",
        "\\begin{equation}\n",
        "h^{(k)} = f(h^{(k-1)}W^{(k)}+b^{(k)})\n",
        "\\end{equation}\n",
        "done $f$ es una de las funciones de activación $\\text{sig}, \\text{tanh}, \\text{relu}, \\text{celu}, \\text{swish}$. Lo que queremos es computar las derivadas parciarles de $\\cal L$ con respecto a $W^{(k)}$, $b^{(k)}$ y  $h^{(k-1)}$. Para esto consideremos\n",
        "\\begin{equation}\n",
        "u^{(k)}=h^{(k-1)}W^{(k)}+b^{(k)}.\n",
        "\\end{equation}\n",
        "Supondremos que ya tenemos computado (antes) el gradiente de $\\cal L$ con respecto a $h^{(k)}$ ($\\partial \\cal L/\\partial h^{(k)}$).<br/><br/>\n",
        "\n",
        "\n",
        "Para cada función de activación de entre \n",
        "$\\text{relu}, \\text{celu}, \\text{swish}$, calcula primero \n",
        "\\begin{equation}\n",
        "\\frac{\\partial \\cal L}{\\partial u^{(k)}}\n",
        "\\end{equation}\n",
        "usando $\\partial \\cal L/\\partial h^{(k)}$ y luego usa $\\partial \\cal L/\\partial u^{(k)}$ y la regla de la cadena para calcular\n",
        "\\begin{equation}\n",
        "\\frac{\\partial \\cal L}{\\partial W^{(k)}}, \\frac{\\partial \\cal L}{\\partial b^{(k)}}, \\frac{\\partial \\cal L}{\\partial h^{(k-1)}}. \n",
        "\\end{equation}\n",
        "Crea trozos de código para cada uno de los cálculos de los gradientes.\n"
      ]
    },
    {
      "metadata": {
        "id": "-0AM0h7suDv4",
        "colab_type": "text"
      },
      "cell_type": "markdown",
      "source": [
        "Puedes entregar esta parte en otro archivo o puedes escribir tus respuestas acá.\n",
        "<br><br>\n",
        "\n",
        "Repite los siguientes cálculos para $\\text{relu}, \\text{celu}, \\text{swish}$\n",
        "<br><br>\n",
        "\n",
        "\\begin{equation}\n",
        "\\frac{\\partial\\cal L}{\\partial u^{(k)}} = \\ldots \\\\\n",
        "\\end{equation}\n",
        "<br><br>\n",
        "\n",
        "\\begin{equation}\n",
        "\\frac{\\partial\\cal L}{\\partial W^{(k)}} = \\ldots \\\\\n",
        "\\end{equation}\n",
        "<br><br>\n",
        "\n",
        "\\begin{equation}\n",
        "\\frac{\\partial\\cal L}{\\partial b^{(k)}} = \\ldots \\\\\n",
        "\\end{equation}\n",
        "<br><br>\n",
        "\n",
        "\\begin{equation}\n",
        "\\frac{\\partial\\cal L}{\\partial h^{(k-1)}} = \\ldots \\\\\n",
        "\\end{equation}"
      ]
    },
    {
      "metadata": {
        "id": "J7OoPdpPsY8x",
        "colab_type": "code",
        "colab": {
          "autoexec": {
            "startup": false,
            "wait_interval": 0
          }
        }
      },
      "cell_type": "code",
      "source": [
        "# Acá tu trozo de código. \n",
        "# Primero agregamos algunas variables dummy para chequear \n",
        "# que al menos las dimensiones están correctas\n",
        "\n",
        "dimk = 20\n",
        "dimkm1 = 30\n",
        "\n",
        "hk = torch.ones(B,dimk)\n",
        "Wk = torch.ones(dimk,dimkm1)\n",
        "bk = torch.ones(dimkm1)\n",
        "\n",
        "uk = hk.mm(Wk).add(bk)\n",
        "\n",
        "dL_dhkm1 = torch.ones(B,dimkm1)\n",
        "\n",
        "# Ahora tu fórmula para el gradiente.\n",
        "# Esto debes repetirlo para relu, celu, y swish\n",
        "\n",
        "dL_duk = None\n",
        "dL_dWk = None\n",
        "dL_dbk = None\n",
        "dL_dhk = None\n",
        "\n",
        "# El gradiente debe coincidir en dimensiones con las variables\n",
        "\n",
        "assert dL_dWk.size() == Wk.size()\n",
        "assert dL_dbk.size() == bk.size()\n",
        "assert dL_dhk.size() == hk.size()"
      ],
      "execution_count": 0,
      "outputs": []
    },
    {
      "metadata": {
        "id": "GoniZJN_wvEj",
        "colab_type": "text"
      },
      "cell_type": "markdown",
      "source": [
        "# Parte 4: Backpropagation en nuestra red\n",
        "\n",
        "En esta parte pondremos todos nuestros cálculos anteriores dentro del método `backward` de nuestra red."
      ]
    },
    {
      "metadata": {
        "id": "otIiI1mNygen",
        "colab_type": "text"
      },
      "cell_type": "markdown",
      "source": [
        "## 4a) Método `backward`\n",
        "\n",
        "Programa un método `backward` dentro de la clase FFNN. El método debiera recibir como entrada tres tensores `x`, `y`, `y_pred`, y debiera computar todos los gradientes para cada uno de los parámetros de la red (con todas las suposiciones que hicimos en la Parte 3, incluyendo el uso de entropía cruzada como función de pérdida). Recuerda computar los gradientes también para capas escondidas con activaciones $\\text{sig}$ y $\\text{tanh}$. Deja todos los gradientes computados en una lista `gradientes` que sea un atributo de la clase FFNN."
      ]
    },
    {
      "metadata": {
        "id": "FvcnNQLc0Y5a",
        "colab_type": "code",
        "colab": {
          "autoexec": {
            "startup": false,
            "wait_interval": 0
          }
        }
      },
      "cell_type": "code",
      "source": [
        "# Tu código debiera continuar aquí \n",
        "\n",
        "class FFNN():\n",
        "  def __init__(self, F, l_h, l_a, C):\n",
        "    pass\n",
        "  \n",
        "  def forward(x):\n",
        "    # ya lo creaste en la parte anterior\n",
        "    pass\n",
        "  \n",
        "  def backward(x,y,y_pred):\n",
        "    # computar acá todos los gradientes\n",
        "    pass"
      ],
      "execution_count": 0,
      "outputs": []
    },
    {
      "metadata": {
        "id": "7KdiE3RDwERd",
        "colab_type": "text"
      },
      "cell_type": "markdown",
      "source": [
        "## 4b) Checkeo de gradiente\n",
        "\n",
        "Programa un método `chequea_gradiente` que reciba un objeto FFNN y que implemente el método de chequeo numérico de gradiente (como se explicó en clases). La idea es que se pueda llamar a este método después de `forward` y `backward` para verificar que no hay errores en la computación de las derivadas parciales. El uso debiera ser como el siguiente:\n",
        "\n",
        "``` \n",
        "# x, y son tensores con datos de entrada\n",
        "# red es un objeto FFNN previamente inicializado\n",
        "\n",
        "y_pred = red.forward(x)\n",
        "red.backward(x,y,y_pred)\n",
        "if not chequa_gradiente(red):\n",
        "  print('Algo malo pasó :-(')\n",
        "else:\n",
        "  print('Todo bien con los gradientes!')\n",
        "``` \n",
        "\n",
        "Puede ser bueno generar algún tipo de mensaje acerca del parámetro (o los parámetros) para los cuales el chequeo falló.\n",
        "\n",
        "Luego de programada la función, muestra dos escenarios para tu red, uno en donde compruebes que los gradientes quedaron bien computados y otro en donde la función encuentre un error. (Para el último caso puedes simplemente forzar el error cambiando a mano algún valor de uno de los parámetros o uno de los gradientes.)\n",
        "\n",
        "\n",
        "Nota que toda tu tarea puede funcionar sin programar esta parte, pero hacer el chequeo de gradiente de forma correcta puede evitarte muchísimos dolores de cabeza para debuggear, porque te ayudará a verificar que las derivadas que calculaste a mano funcionan como se espera."
      ]
    },
    {
      "metadata": {
        "id": "7zcMfV-XwMb9",
        "colab_type": "code",
        "colab": {
          "autoexec": {
            "startup": false,
            "wait_interval": 0
          }
        }
      },
      "cell_type": "code",
      "source": [
        "# Tu código de chequeo de gradiente acá"
      ],
      "execution_count": 0,
      "outputs": []
    },
    {
      "metadata": {
        "id": "cjFVG5e9LlD6",
        "colab_type": "text"
      },
      "cell_type": "markdown",
      "source": [
        "## 4c) Opcional: Incluyendo los parámetros de `celu` y `swish`\n",
        "\n",
        "Si lo deseas, puedes agregar los parámetros de todas las activaciones `celu` y `swish` de tu red como parámetros entrenables. Para esto tendrás que agregar parámetros en el inicializador de la clase y computar las derivadas correspondientes en la función `backward`."
      ]
    },
    {
      "metadata": {
        "id": "AE3EveEj2JEP",
        "colab_type": "text"
      },
      "cell_type": "markdown",
      "source": [
        "# Parte 5: Descenso de gradiente y entrenamiento (por fin!)\n",
        "\n",
        "En esta parte programaremos el algoritmo de descenso de gradiente más común y entrenaremos finalmente nuestra red para que aprenda a clasificar datos aleatorios y un conjunto muy simple de datos (aunque también puedes usar datos de verdad para entrenarla si es que te interesa)."
      ]
    },
    {
      "metadata": {
        "id": "oG-I7Oyl-qsd",
        "colab_type": "text"
      },
      "cell_type": "markdown",
      "source": [
        "## 5a) Descenso de gradiente (estocástico)\n",
        "\n",
        "Construye una clase `SGD` que implemente el algoritmo de descenso de gradiente. El inicializador de la clase debe recibir al menos dos parámetros: una red neuronal (objeto FFNN), y una taza de aprendizaje (`lr`), e implementar un único método `step` que debe actualizar todos los parámetros de la red para los que ya se han computado los gradientes. El uso de esta clase debiera ser como  sigue:\n",
        "\n",
        "\n",
        "``` \n",
        "# datos es un iterador sobre pares de tensores x, y\n",
        "# red es un objeto FFNN previamente inicializado\n",
        "\n",
        "optimizador = SGD(red, 0.001)\n",
        "for x,y in datos:\n",
        "  y_pred = red.forward(x)\n",
        "  red.backward(x,y,y_pred)\n",
        "  optimizador.step()\n",
        "``` \n"
      ]
    },
    {
      "metadata": {
        "id": "TUkJA9Qm2GKY",
        "colab_type": "code",
        "colab": {
          "autoexec": {
            "startup": false,
            "wait_interval": 0
          }
        }
      },
      "cell_type": "code",
      "source": [
        "# Tu código debiera comenzar así\n",
        "\n",
        "class SGD():\n",
        "  def __init__(self, red, lr):\n",
        "    # lo que sea necesario inicializar\n",
        "    pass\n",
        "  \n",
        "  def step():\n",
        "    # actualiza acá los parámetros a partir de los gradientes\n",
        "    pass"
      ],
      "execution_count": 0,
      "outputs": []
    },
    {
      "metadata": {
        "id": "vpCfOvvbLdoq",
        "colab_type": "text"
      },
      "cell_type": "markdown",
      "source": [
        "## 5b) Datos para carga\n",
        "\n",
        "En esta parte crearás un conjunto de datos de prueba aleatorios para probar con tu red. Se recomienda partir por datos al azar, simplemente para que no haya significado en ellos  y te puedas concentrar en encontrar posibles bugs en tu implementación. En la Parte 5e, usarás un conjunto simple de entrenamiento para que veas a tu red aprendiendo sobre conjuntos de datos reales.\n",
        "\n",
        "Para esta parte debes crear una clase `RandomDataset` que recibirá en su inicializador la cantidad de ejemplos a crear, la cantidad de features de cada ejemplo, y la cantidad de clases en la función objetivo. Tu clase debe además definir la función `__len__` que retorna el largo del dataset y la función `__getitem__` que permite acceder a un item específico de los datos. Adicionalmente debes definir una función `paquetes` que recibe un parámetro `B` y entrega un iterador que permita pasar por todos los ejemplos del dataset en paquetes de tamaño `B`. El iterador debiera entregar pares de tensores `(x,y)` tal que el tensor `x` es de dimensiones `(B,F)` y el tensor `y` es de dimensiones `(B,C)`. Nota que la gracia del iterador es que puedas hacer un loop como el que sigue:\n",
        "\n",
        "```\n",
        "dataset = RandomDataset(100,300,10)\n",
        "for x,y in dataset.paquetes(4):\n",
        "  # x,y son paquetes de 4 ejemplos para la red.\n",
        "```"
      ]
    },
    {
      "metadata": {
        "id": "U6o4TjFZa3gJ",
        "colab_type": "code",
        "colab": {
          "autoexec": {
            "startup": false,
            "wait_interval": 0
          }
        }
      },
      "cell_type": "code",
      "source": [
        "# Aquí tu código.\n",
        "# Tu clase debiera verse así\n",
        "\n",
        "class RandomDataset():\n",
        "  def __init__(self, N, F, C):\n",
        "    pass\n",
        "  \n",
        "  def __len__(self):\n",
        "    pass\n",
        "  \n",
        "  def __getitem__(self, i):\n",
        "    pass\n",
        "  \n",
        "  def paquetes(self, B):\n",
        "    pass\n",
        "    "
      ],
      "execution_count": 0,
      "outputs": []
    },
    {
      "metadata": {
        "id": "Bm4X2oazLifX",
        "colab_type": "text"
      },
      "cell_type": "markdown",
      "source": [
        "## 5c) Entrenando la red\n",
        "\n",
        "Por fin podrás crear un loop de entrenamiento. Para esto crea la función `entrenar_FFNN` que recibe una red, un dataset, un optimizador, la cantidad de epochs por las que se quiere entrenar y un valor `B` que indica el tamaño de los paquetes de ejemplos usados en el entrenamiento. Puedes definir todos los parámetros adicionales que quieras para la función. \n",
        "\n",
        "Dentro de la función debes hacer tantas iteraciones sobre el dataset como sea indicado por el parámetro epochs utilizando el optimizador entregado. Al finalizar la función debe retornar la red entrenada y una lista con el valor de la pérdida en cada iteración. Asegúrate de que la función muestra información relevante durante el entrenamiento (piensa en toda la información que te gustaría tener mientras la red entrena e imprímela!).\n",
        "\n",
        "El uso de la función, y de todo tu código hasta ahora, debiera ser como sigue:\n",
        "\n",
        "``` \n",
        "F = 300; C = 10; N = 100\n",
        "red = FFNN(F, [50,30], [relu,sig], C)\n",
        "optimizador = SGD(red, 0.001)\n",
        "dataset = RandomDataset(N, F, C)\n",
        "red_entrenada, perdida = entrenar_FFNN(red, dataset, optimizador, 20, 4)\n",
        "``` "
      ]
    },
    {
      "metadata": {
        "id": "s4jgU-fDUPUD",
        "colab_type": "code",
        "colab": {
          "autoexec": {
            "startup": false,
            "wait_interval": 0
          }
        }
      },
      "cell_type": "code",
      "source": [
        "# Tu código acá\n",
        "\n",
        "def entrenar_FFNN(red, dataset, optimizador, epochs, B):\n",
        "  pass"
      ],
      "execution_count": 0,
      "outputs": []
    },
    {
      "metadata": {
        "id": "ptr16D9gYAC6",
        "colab_type": "text"
      },
      "cell_type": "markdown",
      "source": [
        "## 5d) Graficando la pérdida en el tiempo\n",
        "\n",
        "Usa la librería [`matplotlib`](https://matplotlib.org/users/index.html) para mostrar cómo varía la pérdida a medida que entrena tu red. Muestra al menos tres redes distintas entrenadas con el mismo conjunto."
      ]
    },
    {
      "metadata": {
        "id": "sZGAxnR-Ll-Y",
        "colab_type": "code",
        "colab": {
          "autoexec": {
            "startup": false,
            "wait_interval": 0
          }
        }
      },
      "cell_type": "code",
      "source": [
        "# Tu código acá"
      ],
      "execution_count": 0,
      "outputs": []
    },
    {
      "metadata": {
        "id": "hWkGbQPHmaFN",
        "colab_type": "text"
      },
      "cell_type": "markdown",
      "source": [
        "## 5e) Entrenando con datos no random\n",
        "\n",
        "Usa tu red para resolver el problema \"Varita Mágica\" de la parte 2d) (los datos y una descripción del problema los puedes encontrar [acá](https://github.com/jorgeperezrojas/cc6204-DeepLearning-DCCUChile/tree/master/2018/tareas/tarea1/recursos/varita_magica)). El conjunto de datos es sumamente simple, así que no deberías necesitar una red muy grande para resolver el problema. Esto te servirá más que nada para ver que tu red efectivamente es capaz de aprender datos. Haz primero una clase que te permita pasar por los datos de entrenamiento (similar a `RandomDataset`).\n",
        "\n",
        "Prueba un par de configuraciones para tu red y reporta el porcentaje de acierto (cantidad de casos clasificados correctamente) en el conjunto de prueba. Deberías obtener más que el porcentaje de certeza que obtenía el modelo de ejemplo de la parte 2d).\n",
        "\n",
        "Y si te animas puedes también pasarle inputs creados por ti (fuera del set de entrenamiento y prueba provistos).\n",
        "\n",
        "(Después de esto puedes pasar directamente a la Parte 8 si quieres enfrentarte ya a un conjunto de entrenamiento y prueba más complejo.)"
      ]
    },
    {
      "metadata": {
        "id": "7PJ_w-4UMeU9",
        "colab_type": "code",
        "colab": {
          "autoexec": {
            "startup": false,
            "wait_interval": 0
          }
        }
      },
      "cell_type": "code",
      "source": [
        "# Tu código de carga de datos, creación de la red, \n",
        "# entrenamiento y reportes acá"
      ],
      "execution_count": 0,
      "outputs": []
    },
    {
      "metadata": {
        "id": "y03bJGaDGuII",
        "colab_type": "text"
      },
      "cell_type": "markdown",
      "source": [
        "# Parte 6: Regularización (en construcción)\n",
        "\n"
      ]
    },
    {
      "metadata": {
        "id": "pnA_CbikHNHv",
        "colab_type": "text"
      },
      "cell_type": "markdown",
      "source": [
        "# Parte 7: Optimización (en construcción)"
      ]
    },
    {
      "metadata": {
        "id": "VTjXiZcTHZgm",
        "colab_type": "text"
      },
      "cell_type": "markdown",
      "source": [
        "# Parte 8: Entrenando sobre MNIST (en construcción)\n",
        "\n",
        "En esta parte pondrás a prueba todo lo que has construído para tratar de entrenar una buena red que clasifique dígitos escritos a mano. Usaremos el conjunto de datos MNIST cuya versión original junto con una descripción del conjunto y resultados para distintos métodos de clasificación, se pueden encontrar en http://yann.lecun.com/exdb/mnist/"
      ]
    },
    {
      "metadata": {
        "id": "V4YdUVgQIUWK",
        "colab_type": "text"
      },
      "cell_type": "markdown",
      "source": [
        "## 8a) Cargando y visualizando datos de MNIST\n",
        "\n",
        "Esta parte no requiere que escribas código, sólo que te familiarices con el conjunto de datos. Sólo sigue las instrucciones.\n",
        "\n",
        "Primero usaremos el paquete `torch.vision` para descargar y procesar los datos de MNIST."
      ]
    },
    {
      "metadata": {
        "id": "YE1iMUNfIT1r",
        "colab_type": "code",
        "colab": {
          "autoexec": {
            "startup": false,
            "wait_interval": 0
          }
        }
      },
      "cell_type": "code",
      "source": [
        " # Importamos las clases necesarias\n",
        "\n",
        "from torchvision.datasets import MNIST\n",
        "from torch.utils.data import DataLoader\n",
        "from torchvision.transforms import ToTensor\n",
        "from matplotlib.pyplot import imshow, figure, subplots"
      ],
      "execution_count": 0,
      "outputs": []
    },
    {
      "metadata": {
        "id": "vHFd_ttpGjZ4",
        "colab_type": "code",
        "colab": {
          "autoexec": {
            "startup": false,
            "wait_interval": 0
          },
          "output_extras": [
            {}
          ],
          "base_uri": "https://localhost:8080/",
          "height": 155
        },
        "outputId": "a31db182-b2a3-40f2-82f8-7ee756bbd7f1",
        "executionInfo": {
          "status": "ok",
          "timestamp": 1520907431781,
          "user_tz": 180,
          "elapsed": 23739,
          "user": {
            "displayName": "Jorge Perez",
            "photoUrl": "https://lh3.googleusercontent.com/a/default-user=s128",
            "userId": "107068936185859088499"
          }
        }
      },
      "cell_type": "code",
      "source": [
        "# Descarga y almacena el conjunto de entrenamiento y prueba de MNIST\n",
        "# Además aplica una transformación para convertir todas las imágenes a \n",
        "# tensores de pytroch\n",
        "\n",
        "train_data = MNIST('mnist', train=True, download=True, transform=ToTensor())\n",
        "test_data = MNIST('mnist', train=False, transform=ToTensor())\n",
        "\n",
        "print('Cantidad de ejemplos de entrenamiento: ' + str(len(train_data)))\n",
        "print('Cantidad de ejemplos de prueba: ' + str(len(test_data)))"
      ],
      "execution_count": 0,
      "outputs": [
        {
          "output_type": "stream",
          "text": [
            "Downloading http://yann.lecun.com/exdb/mnist/train-images-idx3-ubyte.gz\n",
            "Downloading http://yann.lecun.com/exdb/mnist/train-labels-idx1-ubyte.gz\n",
            "Downloading http://yann.lecun.com/exdb/mnist/t10k-images-idx3-ubyte.gz\n",
            "Downloading http://yann.lecun.com/exdb/mnist/t10k-labels-idx1-ubyte.gz\n",
            "Processing...\n",
            "Done!\n",
            "Cantidad de ejemplos de entrenamiento: 60000\n",
            "Cantidad de ejemplos de prueba: 10000\n"
          ],
          "name": "stdout"
        }
      ]
    },
    {
      "metadata": {
        "id": "FLEHQsTyJsgF",
        "colab_type": "code",
        "colab": {
          "autoexec": {
            "startup": false,
            "wait_interval": 0
          },
          "output_extras": [
            {}
          ],
          "base_uri": "https://localhost:8080/",
          "height": 878
        },
        "outputId": "c1bc99af-3072-47df-a474-699e0b455f3c",
        "executionInfo": {
          "status": "ok",
          "timestamp": 1520907576301,
          "user_tz": 180,
          "elapsed": 1170,
          "user": {
            "displayName": "Jorge Perez",
            "photoUrl": "https://lh3.googleusercontent.com/a/default-user=s128",
            "userId": "107068936185859088499"
          }
        }
      },
      "cell_type": "code",
      "source": [
        "# Muestra 5 ejemplos al azar usando un DataLoader\n",
        "\n",
        "dataloader = DataLoader(train_data, shuffle=True)\n",
        "n_ejemplos = 5\n",
        "\n",
        "fig, axs = subplots(nrows=n_ejemplos, sharey=True, figsize=(3,n_ejemplos*3))\n",
        "\n",
        "for i, batch in enumerate(dataloader):\n",
        "  if i == n_ejemplos:\n",
        "    break\n",
        "    \n",
        "  img, d = batch\n",
        "  axs[i].set_title(\"target: \" + str(d.numpy()))\n",
        "  axs[i].imshow(img.view(28,28).numpy())\n",
        "\n",
        "# Note que se usó `view` para redimensionar el tensor, esto porque nuestro\n",
        "# dataloader entrega un tensor de dimensiones (1,1,28,28).\n",
        "# Es muy importante tener este hecho en cuenta en la siguiente parte."
      ],
      "execution_count": 0,
      "outputs": [
        {
          "output_type": "display_data",
          "data": {
            "image/png": "[encoded data removed]",
            "text/plain": [
              "<matplotlib.figure.Figure at 0x7f6b72639210>"
            ]
          },
          "metadata": {
            "tags": []
          }
        }
      ]
    },
    {
      "metadata": {
        "id": "ob9VdT3NKEBP",
        "colab_type": "text"
      },
      "cell_type": "markdown",
      "source": [
        "## 8b) Red neuronal para MNIST\n",
        "\n",
        "Usa tu red neuronal (o modifícala como quieras) para entrenar la mejor red que puedas para MNIST. Puedes considerar y variar todo lo que estimes como cantidad de capas, método de regularización, mejores optimizaciones, o incluso puedes implementar nuevas técnicas mejorando tu código anterior. Lo importante es que las técnicas que pruebes debes implementarlas tu. Recuerda que **solo puedes usar el conjunto de entrenamiento para entrenar a la red. Buscar los hiperparámetros, o cualquier otra cosa, en el conjunto de test es trampa**.\n",
        "\n",
        "Reporta acá qué hiciste para encontrar la mejor configuración de red, cuál fue la red final escogida, y reporta también los valores de los mejores hiperparámetros que encontraste para el entrenamiento. Tu experimento debe ser repetible (o sea, otra persona debe ser capaz de correr el mismo experimento con tu código y obtener los mismos resultados). Ten cuidado que dependiendo de la configuración de tu red, esta puede demorarse un tiempo considerable en entrenar, así que considéralo! Comienza con una red muy simple (una capa escondida) para que la tengas como punto de comparación antes de ponerte a probar con alguna otra muy compleja.\n",
        "\n",
        "Reporta también al menos un gráfico del entrenamiento, en particular como varió la pérdida durante el entrenamiento. Reporta finalmente la certeza de las predicciones de tu red (porcentaje de ejemplos que clasifica correctamente)."
      ]
    }
  ]
}