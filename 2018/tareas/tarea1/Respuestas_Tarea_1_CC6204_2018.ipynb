{
  "nbformat": 4,
  "nbformat_minor": 0,
  "metadata": {
    "colab": {
      "name": "Respuestas_Tarea_1_CC6204_2018",
      "version": "0.3.2",
      "views": {},
      "default_view": {},
      "provenance": [
        {
          "file_id": "1-7Alg0DzdesaVPVuDghwoXbN0pa8ds1t",
          "timestamp": 1521245040538
        }
      ]
    }
  },
  "cells": [
    {
      "metadata": {
        "id": "4zhjpqvcdo5o",
        "colab_type": "text"
      },
      "cell_type": "markdown",
      "source": [
        "# Tarea 1 <br/> CC6204 Deep Learning, Universidad de Chile <br/> Hoja de respuestas \n",
        "\n",
        "## Nombre: (escribe acá tu nombre)\n",
        "Fecha para completar la tarea: lunes 23 de abril de 2018\n"
      ]
    },
    {
      "metadata": {
        "id": "C3RE-PBXwnxB",
        "colab_type": "text"
      },
      "cell_type": "markdown",
      "source": [
        "## Insturcciones:\n",
        "En este notebook debes dejar todo tu código de las partes 1 hasta 8 de la tarea. Debes dejar el código (y todo lo adicional que hayas programado) en las celdas designadas para ello. Las partes que se hacen a mano (o con fórmulas), puedes entregarlas al final o en un archivo separado. En la siguiente celda encontrarás un *check list* de las partes de la tarea. En cada item indica si lo completaste o no en tu entrega ('SI', o 'NO'). Por favor, no marques como 'SI' partes que no hiciste. Adicionalemnte, el lugar en tu código donde completaste cada parte, márcala con un comentario como el siguiente\n",
        "\n",
        "```\n",
        "#### Parte 4a) Método backward\n",
        "```\n",
        "\n",
        "Si bien para algunas partes puede no estar exactamente claro dónde comienza (y termina) cada parte, usa tu criterio para los comentarios. Esto es sólo para ayudarnos a corregir. Nota que las celdas de más abajo no necesariamente siguen el orden del check list. Por ejemplo en la celda donde defines tu clase para la red neuronal se espera agregues código de las partes 2, 3, 7 etc. Todo eso está en una única celda (lo entenderás cuando mires más abajo).\n",
        "\n",
        "Por favor sigue este formato. **Si no sigues el formato te descontaremos puntaje.**"
      ]
    },
    {
      "metadata": {
        "id": "jRUVrysiyuZs",
        "colab_type": "text"
      },
      "cell_type": "markdown",
      "source": [
        "---\n",
        "\n",
        "## Checklist\n",
        "\n",
        "Parte|Completado\n",
        "---:|---:\n",
        "**1) Activación, derivadas, y salida** |\n",
        "1a) Funciones de activación | NO\n",
        "1b) Derivando las funciones de activación | NO\n",
        "1c) Softmax | NO\n",
        "**2) Red neuronal y pasada hacia adelante** |\n",
        "2a) Clase para red neuronal | NO\n",
        "2b) Usando la GPU | NO\n",
        "2c) Pasada hacia adelante | NO\n",
        "2d) Probando tu red con un modelo pre-entrenado | NO\n",
        "**3) Más derivadas y backpropagation** |\n",
        "3a) Entropía cruzada | NO\n",
        "3b) Derivando la última capa | NO\n",
        "3c) Derivando desde las capas escondidas | NO\n",
        "**4) Backpropagation en nuestra red** |\n",
        "4a) Método backward | NO\n",
        "4b) Checkeo de gradiente | NO\n",
        "4c) Opcional: incluyendo los parámetros de celu y swish | NO\n",
        "**5) Descenso de gradiente y entrenamiento** |\n",
        "5a) Descenso de gradiente | NO\n",
        "5b) Datos para carga | NO\n",
        "5c) Entrenando la red | NO\n",
        "5d) Graficando la pérdida en el tiempo | NO\n",
        "5e) Entrenando con datos no random | NO\n",
        "**6) Regularización** |\n",
        "6a) Regularización por penalización de norma | NO\n",
        "6b) Regularización por dropout | NO\n",
        "**7) Optimización** |\n",
        "7a) Inicialización de Xavier | NO\n",
        "7b) Descenso de gradiente con momentum | NO\n",
        "7c) RMSProp | NO\n",
        "7d) Adam | NO\n",
        "7e) Opcional: batch normalization | NO\n",
        "**8) Entrenando sobre MNIST** |\n",
        "8a) Cargando y visualizando datos de MNIST | SI\n",
        "8b) Red neuronal para MNIST | NO\n",
        "8c) Opcional: visualización de entrenamiento y convergencia | NO\n",
        "\n",
        "---"
      ]
    },
    {
      "metadata": {
        "id": "I_kVL7undMBx",
        "colab_type": "code",
        "colab": {
          "autoexec": {
            "startup": false,
            "wait_interval": 0
          }
        }
      },
      "cell_type": "code",
      "source": [
        "# Este notebook está pensado para correr en CoLaboratory. \n",
        "# Comenzamos instalando las librerías necesarias.\n",
        "# Si lo estás ejecutando localmente posiblemente no sea necesario\n",
        "# reinstalar todo.\n",
        "\n",
        "from os import path\n",
        "from wheel.pep425tags import get_abbr_impl, get_impl_ver, get_abi_tag\n",
        "platform = '{}{}-{}'.format(get_abbr_impl(), get_impl_ver(), get_abi_tag())\n",
        "\n",
        "accelerator = 'cu80' if path.exists('/opt/bin/nvidia-smi') else 'cpu'\n",
        "\n",
        "!pip install -q http://download.pytorch.org/whl/{accelerator}/torch-0.3.0.post4-{platform}-linux_x86_64.whl torchvision\n",
        "!pip install -q ipdb\n",
        "\n",
        "import torch\n",
        "\n",
        "# Agrega acá todo lo que quieras importar o instalar"
      ],
      "execution_count": 0,
      "outputs": []
    },
    {
      "metadata": {
        "id": "_EhdkSIOFvR9",
        "colab_type": "text"
      },
      "cell_type": "markdown",
      "source": [
        "## Funciones de activación, predicción y pérdida"
      ]
    },
    {
      "metadata": {
        "id": "p80-9lwaUAix",
        "colab_type": "code",
        "colab": {
          "autoexec": {
            "startup": false,
            "wait_interval": 0
          }
        }
      },
      "cell_type": "code",
      "source": [
        "def sig(T):\n",
        "  return torch.reciprocal(1 + torch.exp(-1 * T))\n",
        "\n",
        "def tanh(T):\n",
        "  E = torch.exp(T)\n",
        "  e = torch.exp(-1 * T)\n",
        "  return (E - e) * torch.reciprocal(E + e)"
      ],
      "execution_count": 0,
      "outputs": []
    },
    {
      "metadata": {
        "id": "4VtQWFePbtrF",
        "colab_type": "code",
        "colab": {
          "autoexec": {
            "startup": false,
            "wait_interval": 0
          }
        }
      },
      "cell_type": "code",
      "source": [
        "#### Parte 1a) Funciones de activación\n",
        "\n",
        "def relu(T):\n",
        "  pass\n",
        "\n",
        "def swish(T, ):\n",
        "  pass\n",
        "\n",
        "def celu(T, ):\n",
        "  pass"
      ],
      "execution_count": 0,
      "outputs": []
    },
    {
      "metadata": {
        "id": "5hVvsHp-dGk4",
        "colab_type": "code",
        "colab": {
          "autoexec": {
            "startup": false,
            "wait_interval": 0
          }
        },
        "cellView": "code"
      },
      "cell_type": "code",
      "source": [
        "#### Parte 1c) Softmax\n",
        "def softmax(T, dim, estable=True):\n",
        "  pass"
      ],
      "execution_count": 0,
      "outputs": []
    },
    {
      "metadata": {
        "id": "1FKxJiOB7Dbl",
        "colab_type": "code",
        "colab": {
          "autoexec": {
            "startup": false,
            "wait_interval": 0
          }
        }
      },
      "cell_type": "code",
      "source": [
        "#### Parte 3a) Entropía cruzada\n",
        "def cross_ent_loss(Q,P):\n",
        "  pass"
      ],
      "execution_count": 0,
      "outputs": []
    },
    {
      "metadata": {
        "id": "2m3i_1ijPLr_",
        "colab_type": "text"
      },
      "cell_type": "markdown",
      "source": [
        "## Clase FFNN, incialización, forward, backward y regularización\n"
      ]
    },
    {
      "metadata": {
        "id": "E79vHyuu4mIZ",
        "colab_type": "code",
        "colab": {
          "autoexec": {
            "startup": false,
            "wait_interval": 0
          }
        }
      },
      "cell_type": "code",
      "source": [
        "#### Parte 2a) Clase para red neuronal\n",
        "class FFNN():\n",
        "  \n",
        "  def __init__(\n",
        "      self, F, l_h, l_a, C, \n",
        "      wc_par=None, \n",
        "      keep_prob=None, \n",
        "      init=None,\n",
        "      bn=None\n",
        "  ):\n",
        "    #### Parte 7a) Inicialización de Xavier\n",
        "    #### Parte 7e) Opcional: batch normalization\n",
        "    pass\n",
        "\n",
        "  \n",
        "  #### Parte 2c) Pasada hacia adelante\n",
        "  def forward(x, predict=False):\n",
        "    pass\n",
        "\n",
        "  \n",
        "  #### Parte 4a) Método backward\n",
        "  def backward(x,y,y_pred):\n",
        "    pass\n",
        "\n",
        "  \n",
        "  #### Parte 2b) Usando la GPU\n",
        "  def gpu(self):\n",
        "    pass\n",
        "  \n",
        "  def cpu(self):\n",
        "    pass"
      ],
      "execution_count": 0,
      "outputs": []
    },
    {
      "metadata": {
        "id": "lkOpCOUj7a-X",
        "colab_type": "text"
      },
      "cell_type": "markdown",
      "source": [
        "## Probando tu red con un modelo pre-entrenado y visualizando casos incorrectos"
      ]
    },
    {
      "metadata": {
        "id": "WdX6bv6NvTYR",
        "colab_type": "code",
        "colab": {
          "autoexec": {
            "startup": false,
            "wait_interval": 0
          }
        }
      },
      "cell_type": "code",
      "source": [
        "#### Parte 2d) Probando tu red con un modelo pre-entrenado"
      ],
      "execution_count": 0,
      "outputs": []
    },
    {
      "metadata": {
        "id": "7KdiE3RDwERd",
        "colab_type": "text"
      },
      "cell_type": "markdown",
      "source": [
        "## Checkeo de gradiente"
      ]
    },
    {
      "metadata": {
        "id": "7zcMfV-XwMb9",
        "colab_type": "code",
        "colab": {
          "autoexec": {
            "startup": false,
            "wait_interval": 0
          }
        }
      },
      "cell_type": "code",
      "source": [
        "#### Parte 4b) Chequeo de gradiente"
      ],
      "execution_count": 0,
      "outputs": []
    },
    {
      "metadata": {
        "id": "oG-I7Oyl-qsd",
        "colab_type": "text"
      },
      "cell_type": "markdown",
      "source": [
        "## Descenso de gradiente, momentum, RMSProp y Adam\n"
      ]
    },
    {
      "metadata": {
        "id": "TUkJA9Qm2GKY",
        "colab_type": "code",
        "colab": {
          "autoexec": {
            "startup": false,
            "wait_interval": 0
          }
        }
      },
      "cell_type": "code",
      "source": [
        "#### Parte 5a) Descenso de gradiente\n",
        "#### Parte 7b) Descenso de gradiente con momentum\n",
        "class SGD():\n",
        "  def __init__(self, red, lr, momentum=0.9):\n",
        "    pass\n",
        "  \n",
        "  def step():\n",
        "    pass"
      ],
      "execution_count": 0,
      "outputs": []
    },
    {
      "metadata": {
        "id": "QfT8N2KY9NLI",
        "colab_type": "code",
        "colab": {
          "autoexec": {
            "startup": false,
            "wait_interval": 0
          }
        }
      },
      "cell_type": "code",
      "source": [
        "#### Parte 7c) RMSProp\n",
        "class RMSProp():\n",
        "  def __init__(self, red, lr=0.001, beta=0.9, epsilon=1e-8):\n",
        "    pass\n",
        "  \n",
        "  def step():\n",
        "    pass"
      ],
      "execution_count": 0,
      "outputs": []
    },
    {
      "metadata": {
        "id": "Snfzj9U89XJj",
        "colab_type": "code",
        "colab": {
          "autoexec": {
            "startup": false,
            "wait_interval": 0
          }
        }
      },
      "cell_type": "code",
      "source": [
        "#### Parte 7d) Adam\n",
        "class Adam():\n",
        "  def __init__(self, red, lr=0.001, beta1=0.9, beta2=0.999, epsilon=1e-8):\n",
        "    pass\n",
        "  \n",
        "  def step():\n",
        "    pass"
      ],
      "execution_count": 0,
      "outputs": []
    },
    {
      "metadata": {
        "id": "vpCfOvvbLdoq",
        "colab_type": "text"
      },
      "cell_type": "markdown",
      "source": [
        "## Datos random para carga\n"
      ]
    },
    {
      "metadata": {
        "id": "U6o4TjFZa3gJ",
        "colab_type": "code",
        "colab": {
          "autoexec": {
            "startup": false,
            "wait_interval": 0
          }
        }
      },
      "cell_type": "code",
      "source": [
        "#### Parte 5b) Datos para carga\n",
        "class RandomDataset():\n",
        "  def __init__(self, N, F, C):\n",
        "    pass\n",
        "  \n",
        "  def __len__(self):\n",
        "    pass\n",
        "  \n",
        "  def __getitem__(self, i):\n",
        "    pass\n",
        "  \n",
        "  def paquetes(self, B):\n",
        "    pass\n",
        "    "
      ],
      "execution_count": 0,
      "outputs": []
    },
    {
      "metadata": {
        "id": "ccVnn9kLS1Rl",
        "colab_type": "text"
      },
      "cell_type": "markdown",
      "source": [
        "## Loop de entrenamiento"
      ]
    },
    {
      "metadata": {
        "id": "Y5MNS3x0Sk9i",
        "colab_type": "code",
        "colab": {
          "autoexec": {
            "startup": false,
            "wait_interval": 0
          }
        }
      },
      "cell_type": "code",
      "source": [
        "#### Parte 5c) Entrenando la red\n",
        "def entrenar_FFNN(red, dataset, optimizador, epochs, B):\n",
        "  pass"
      ],
      "execution_count": 0,
      "outputs": []
    },
    {
      "metadata": {
        "id": "4u53x0fETEq2",
        "colab_type": "text"
      },
      "cell_type": "markdown",
      "source": [
        "## Entrenando con datos random y graficando la pérdida"
      ]
    },
    {
      "metadata": {
        "id": "s4jgU-fDUPUD",
        "colab_type": "code",
        "colab": {
          "autoexec": {
            "startup": false,
            "wait_interval": 0
          }
        }
      },
      "cell_type": "code",
      "source": [
        "#### Parte 5d) Graficando la pérdida en el tiempo"
      ],
      "execution_count": 0,
      "outputs": []
    },
    {
      "metadata": {
        "id": "hWkGbQPHmaFN",
        "colab_type": "text"
      },
      "cell_type": "markdown",
      "source": [
        "## Entrenando con datos de varita mágica\n",
        "\n"
      ]
    },
    {
      "metadata": {
        "id": "7PJ_w-4UMeU9",
        "colab_type": "code",
        "colab": {
          "autoexec": {
            "startup": false,
            "wait_interval": 0
          }
        }
      },
      "cell_type": "code",
      "source": [
        "#### Parte 5e) Entrenando con datos no random"
      ],
      "execution_count": 0,
      "outputs": []
    },
    {
      "metadata": {
        "id": "VTjXiZcTHZgm",
        "colab_type": "text"
      },
      "cell_type": "markdown",
      "source": [
        "## Cargando datos de MNIST"
      ]
    },
    {
      "metadata": {
        "id": "YE1iMUNfIT1r",
        "colab_type": "code",
        "colab": {
          "autoexec": {
            "startup": false,
            "wait_interval": 0
          }
        }
      },
      "cell_type": "code",
      "source": [
        "#### Parte 8a) Cargando y visualizando datos de MNIST\n",
        "\n",
        "# Importamos las clases necesarias\n",
        "\n",
        "from torchvision.datasets import MNIST\n",
        "from torch.utils.data import DataLoader\n",
        "from torchvision.transforms import ToTensor\n",
        "from matplotlib.pyplot import imshow, figure, subplots\n",
        "\n",
        "# Descarga y almacena el conjunto de entrenamiento y prueba de MNIST\n",
        "# Además aplica una transformación para convertir todas las imágenes a \n",
        "# tensores de pytroch\n",
        "\n",
        "train_data = MNIST('mnist', train=True, download=True, transform=ToTensor())\n",
        "test_data = MNIST('mnist', train=False, transform=ToTensor())\n",
        "\n",
        "print('Cantidad de ejemplos de entrenamiento: ' + str(len(train_data)))\n",
        "print('Cantidad de ejemplos de prueba: ' + str(len(test_data)))\n",
        "\n",
        "# Muestra 3 ejemplos al azar usando un DataLoader\n",
        "\n",
        "dataloader = DataLoader(train_data, shuffle=True)\n",
        "n_ejemplos = 3\n",
        "\n",
        "fig, axs = subplots(nrows=n_ejemplos, sharey=True, figsize=(3,n_ejemplos*3))\n",
        "\n",
        "for i, batch in enumerate(dataloader):\n",
        "  if i == n_ejemplos:\n",
        "    break\n",
        "    \n",
        "  img, d = batch\n",
        "  axs[i].set_title(\"target: \" + str(d.numpy()))\n",
        "  axs[i].imshow(img.view(28,28).numpy())"
      ],
      "execution_count": 0,
      "outputs": []
    },
    {
      "metadata": {
        "id": "ob9VdT3NKEBP",
        "colab_type": "text"
      },
      "cell_type": "markdown",
      "source": [
        "## Red neuronal para MNIST"
      ]
    },
    {
      "metadata": {
        "id": "0qWEfhdhUM_P",
        "colab_type": "code",
        "colab": {
          "autoexec": {
            "startup": false,
            "wait_interval": 0
          }
        }
      },
      "cell_type": "code",
      "source": [
        "#### Parte 8b) Red neuronal para MNIST"
      ],
      "execution_count": 0,
      "outputs": []
    },
    {
      "metadata": {
        "id": "bjpfhhL9URCy",
        "colab_type": "code",
        "colab": {
          "autoexec": {
            "startup": false,
            "wait_interval": 0
          }
        }
      },
      "cell_type": "code",
      "source": [
        "#### Parte 8c) Visualización de entrenamiento y convergencia"
      ],
      "execution_count": 0,
      "outputs": []
    },
    {
      "metadata": {
        "id": "JF7GV3X4WRSY",
        "colab_type": "text"
      },
      "cell_type": "markdown",
      "source": [
        "---\n",
        "\n",
        "## Apéndice: partes a mano"
      ]
    },
    {
      "metadata": {
        "id": "B5nWf6E7WbHf",
        "colab_type": "text"
      },
      "cell_type": "markdown",
      "source": [
        "### Parte 1b) Derivando las funciones de activación"
      ]
    },
    {
      "metadata": {
        "id": "quUwCy0nWhKp",
        "colab_type": "text"
      },
      "cell_type": "markdown",
      "source": [
        ""
      ]
    },
    {
      "metadata": {
        "id": "dORBkUQ4Wh1z",
        "colab_type": "text"
      },
      "cell_type": "markdown",
      "source": [
        "### Parte 3b) Derviando la última capa"
      ]
    },
    {
      "metadata": {
        "id": "NZlKnTVrWp8y",
        "colab_type": "text"
      },
      "cell_type": "markdown",
      "source": [
        ""
      ]
    },
    {
      "metadata": {
        "id": "hPowZjVDWrrL",
        "colab_type": "text"
      },
      "cell_type": "markdown",
      "source": [
        "### Parte 3c) Derivando desde las capas escondidas"
      ]
    },
    {
      "metadata": {
        "id": "WhJJTBD7Wx-s",
        "colab_type": "text"
      },
      "cell_type": "markdown",
      "source": [
        ""
      ]
    },
    {
      "metadata": {
        "id": "kwqO70d2W2if",
        "colab_type": "text"
      },
      "cell_type": "markdown",
      "source": [
        "### Otras derivadas (derivadas opcionales de celu y swish, de batch normalization, etc.)"
      ]
    },
    {
      "metadata": {
        "id": "J-VAm34vXBAs",
        "colab_type": "text"
      },
      "cell_type": "markdown",
      "source": [
        ""
      ]
    }
  ]
}